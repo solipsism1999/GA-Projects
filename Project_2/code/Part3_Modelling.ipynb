{
 "cells": [
  {
   "cell_type": "markdown",
   "id": "d9fa5e41",
   "metadata": {},
   "source": [
    "## Modelling \n",
    "\n",
    "After cleaning and performing Exploratory Data Analysis (EDA), this notebook hopes to develop a model that is accurate and high performing. Through EDA, we have identified few variables that we hope to perform:\n",
    "\n",
    "* Feature Engineering on selected features identified in EDA\n",
    "* Preprocessing of features before modelling\n",
    "* Performing Model Evaluations "
   ]
  },
  {
   "cell_type": "markdown",
   "id": "f316bcd6",
   "metadata": {},
   "source": [
    "# Import Libraries"
   ]
  },
  {
   "cell_type": "code",
   "execution_count": 1,
   "id": "8a892f1a",
   "metadata": {},
   "outputs": [],
   "source": [
    "# Import necessary libs\n",
    "import pandas as pd\n",
    "import numpy as np\n",
    "import seaborn as sns\n",
    "import matplotlib.pyplot as plt\n",
    "import statsmodels.api as sm\n",
    "from sklearn.linear_model import LinearRegression, Ridge, Lasso\n",
    "from sklearn.preprocessing import StandardScaler, OneHotEncoder, PolynomialFeatures\n",
    "from sklearn.metrics import mean_squared_error, r2_score\n",
    "from sklearn.model_selection import train_test_split, GridSearchCV\n",
    "from sklearn.impute import KNNImputer\n",
    "from sklearn.compose import ColumnTransformer\n",
    "from sklearn.pipeline import Pipeline\n",
    "\n",
    "# Suppress warnings\n",
    "import warnings\n",
    "warnings.filterwarnings('ignore')"
   ]
  },
  {
   "cell_type": "markdown",
   "id": "790a8b2f",
   "metadata": {},
   "source": [
    "# Loading .csv file of imputed values from train.csv"
   ]
  },
  {
   "cell_type": "code",
   "execution_count": 2,
   "id": "81194e49",
   "metadata": {},
   "outputs": [],
   "source": [
    "# Load data\n",
    "price = pd.read_csv(\"../data/train_imputed.csv\")"
   ]
  },
  {
   "cell_type": "markdown",
   "id": "1b0f07fe",
   "metadata": {},
   "source": [
    "# Feature Engineering \n",
    "Based on EDA, strong correlations and domain research have been identified in features in train dataset such as:\n",
    "\n",
    "* Mature Estates\n",
    "* Town Region\n",
    "* Proximity of Primary and Secondary Schools\n",
    "* Number of Apartments Per Storey\n",
    "* Average distance of key amenities\n",
    "* Binarization of key amenities\n",
    "* HDB Flat Models\n",
    "\n",
    "> From existing variables, we create new features that have strong correlations with HDB resale prices that can bolster the predictive power of our model. "
   ]
  },
  {
   "cell_type": "code",
   "execution_count": 3,
   "id": "3acd85d2",
   "metadata": {},
   "outputs": [],
   "source": [
    "# Feature engineering for mature estate\n",
    "mature_estates = [\"ANG MO KIO\", \"BEDOK\", \"BISHAN\", \"BUKIT MERAH\", \"BUKIT TIMAH\", \"CENTRAL AREA\", \"CLEMENTI\", \"GEYLANG\", \"KALLANG/WHAMPOA\", \"MARINE PARADE\"]\n",
    "price['mature_estate'] = price['town'].apply(lambda x: 1 if x in mature_estates else 0)"
   ]
  },
  {
   "cell_type": "code",
   "execution_count": 4,
   "id": "ae6c6c8d",
   "metadata": {},
   "outputs": [],
   "source": [
    "# Feature engineering for north, south, east, west and central\n",
    "central = ['BISHAN', 'BUKIT MERAH', 'GEYLANG', 'KALLANG/WHAMPOA', 'MARINE PARADE', 'QUEENSTOWN', 'SOUTHERN ISLANDS', 'TOA PAYOH', 'CENTRAL AREA']\n",
    "price['central'] = price['town'].apply(lambda x: 1 if x in central else 0)\n",
    "\n",
    "east = ['BEDOK', 'CHANGI', 'CHANGI BAY', 'PAYA LEBAR', 'PASIR RIS', 'TAMPINES']\n",
    "price['east'] = price['town'].apply(lambda x: 1 if x in east else 0)\n",
    "\n",
    "north = ['CENTRAL WATER CATCHMENT', 'LIM CHU KANG', 'MANDAI', 'SEMBAWANG', 'SIMPANG', 'SUNGEI KADUT', 'WOODLANDS', 'YISHUN']\n",
    "price['north'] = price['town'].apply(lambda x: 1 if x in north else 0)\n",
    "\n",
    "north_east = ['ANG MO KIO', 'HOUGANG', 'NORTH-EASTERN ISLANDS', 'PUNGGOL', 'SELETAR', 'SENGKANG', 'SERANGOON']\n",
    "price['north_east'] = price['town'].apply(lambda x: 1 if x in north_east else 0)\n",
    "\n",
    "west = ['BUKIT BATOK', 'BUKIT PANJANG', 'BOON LAY', 'PIONEER', 'CHOA CHU KANG', 'CLEMENTI', 'JURONG EAST', 'JURONG WEST', 'TENGAH', 'TUAS', 'WESTERN ISLANDS', 'WESTERN WATER', 'CATCHMENT', 'BENOI', 'GHIM MOH', 'GUL', 'PANDAN GARDENS', 'JURONG ISLAND', 'KENT RIDGE', 'NANYANG', 'PIONEER', 'PASIR LABA', 'TEBAN GARDENS', 'TOH TUCK', 'TUAS SOUTH', 'WEST COAST']\n",
    "price['west'] = price['town'].apply(lambda x: 1 if x in west else 0)"
   ]
  },
  {
   "cell_type": "code",
   "execution_count": 5,
   "id": "57aa4177",
   "metadata": {},
   "outputs": [],
   "source": [
    "# Feature engineering for Total schools within 1km\n",
    "price['total_schools_within_1km'] = (price['sec_sch_nearest_dist'] <= 1000).astype(int) + (price['pri_sch_nearest_distance'] <= 1000).astype(int)"
   ]
  },
  {
   "cell_type": "code",
   "execution_count": 7,
   "id": "20e5f8ac",
   "metadata": {},
   "outputs": [],
   "source": [
    "# Feature engineering for units per floor\n",
    "# Create the 'unit per floor' feature\n",
    "price['unit_per_floor'] = price['total_dwelling_units'] / price['max_floor_lvl']"
   ]
  },
  {
   "cell_type": "code",
   "execution_count": 9,
   "id": "db7345f1",
   "metadata": {},
   "outputs": [],
   "source": [
    "# Calculate the average distance to MRT, Mall, and Hawker\n",
    "price['avg_distance_to_key_locations'] = (price['mrt_nearest_distance'] + price['Mall_Nearest_Distance'] + price['Hawker_Nearest_Distance']) / 3\n"
   ]
  },
  {
   "cell_type": "code",
   "execution_count": 12,
   "id": "b13fea91",
   "metadata": {},
   "outputs": [],
   "source": [
    "# Convert 'N' to 0 and 'Y' to 1 for specific columns\n",
    "price['multistorey_carpark'] = price['multistorey_carpark'].map({'N': 0, 'Y': 1})\n",
    "price['precinct_pavilion'] = price['precinct_pavilion'].map({'N': 0, 'Y': 1})\n",
    "price['commercial'] = price['commercial'].map({'N': 0, 'Y': 1})"
   ]
  },
  {
   "cell_type": "code",
   "execution_count": 13,
   "id": "bdda5c0c",
   "metadata": {},
   "outputs": [],
   "source": [
    "#Feature Engineering: Masionette \n",
    "maisonette = [\"Improved-Maisonette\", \"Maisonette\", \"Model A-Maisonette\", \"Premium Maisonette\"]\n",
    "\n",
    "#Feature Engineering: Unique HDB models\n",
    "unique_models = [\"DBSS\", \"Type S1\", \"Type S2\", \"Apartment\", \"Adjoined flat\", \"Terrace\"] + maisonette\n",
    "price[\"unique_model\"] = [1 if model in unique_models else 0 for model in price[\"flat_model\"]]"
   ]
  },
  {
   "cell_type": "markdown",
   "id": "f5985e1b",
   "metadata": {},
   "source": [
    "# Standardisation of Modelling Features\n",
    "\n",
    "As linear models allow better performance by reducing the range, preprocessing steps are taken. Categorical variables are dummified."
   ]
  },
  {
   "cell_type": "code",
   "execution_count": 14,
   "id": "cacdd4c1",
   "metadata": {},
   "outputs": [],
   "source": [
    "# list of selected numerical features\n",
    "selected_numerical_features = [\n",
    "    'floor_area_sqm', 'mrt_nearest_distance',\n",
    "    'Hawker_Within_1km', 'Mall_Nearest_Distance', 'Mall_Within_1km',\n",
    "    'max_floor_lvl', 'mature_estate', 'unit_per_floor', 'multistorey_carpark', 'precinct_pavilion',\n",
    "    'commercial', 'total_dwelling_units', 'hdb_age',\n",
    "    'Tranc_Year', 'Tranc_Month', 'mid_storey', 'vacancy', 'avg_distance_to_key_locations', \n",
    "    'unique_model', 'total_schools_within_1km','hawker_market_stalls',\n",
    "    'central', 'east', 'north', 'north_east', 'west'\n",
    "]"
   ]
  },
  {
   "cell_type": "code",
   "execution_count": 15,
   "id": "52546409",
   "metadata": {},
   "outputs": [],
   "source": [
    "# List of selected categorical features\n",
    "selected_categorical_features = ['town','storey_range']"
   ]
  },
  {
   "cell_type": "code",
   "execution_count": 16,
   "id": "13a88a5c",
   "metadata": {},
   "outputs": [],
   "source": [
    "# Numerical pipeline: scaling and polynomial features\n",
    "num_pipeline = Pipeline([\n",
    "  ('scaler', StandardScaler()),\n",
    "    ('poly', PolynomialFeatures(degree=2))\n",
    " ])"
   ]
  },
  {
   "cell_type": "code",
   "execution_count": 17,
   "id": "e8b40651",
   "metadata": {},
   "outputs": [],
   "source": [
    "# ColumnTransformer\n",
    "# Different data attributes requires different preprocessing\n",
    "preprocessor = ColumnTransformer(\n",
    "    transformers=[\n",
    "        ('num', num_pipeline, selected_numerical_features),('cat', OneHotEncoder(drop='first'), selected_categorical_features)\n",
    "])"
   ]
  },
  {
   "cell_type": "code",
   "execution_count": 18,
   "id": "cdf30bd9",
   "metadata": {},
   "outputs": [],
   "source": [
    "# Extracting the relevant features\n",
    "selected_data_imputed = price[selected_numerical_features + selected_categorical_features]"
   ]
  },
  {
   "cell_type": "markdown",
   "id": "122f2b68",
   "metadata": {},
   "source": [
    "# Prepare Training and Test datasets\n",
    "\n",
    "A train-test split of 80-20 has been chosen"
   ]
  },
  {
   "cell_type": "code",
   "execution_count": 19,
   "id": "63018967",
   "metadata": {},
   "outputs": [
    {
     "data": {
      "text/html": [
       "<div>\n",
       "<style scoped>\n",
       "    .dataframe tbody tr th:only-of-type {\n",
       "        vertical-align: middle;\n",
       "    }\n",
       "\n",
       "    .dataframe tbody tr th {\n",
       "        vertical-align: top;\n",
       "    }\n",
       "\n",
       "    .dataframe thead th {\n",
       "        text-align: right;\n",
       "    }\n",
       "</style>\n",
       "<table border=\"1\" class=\"dataframe\">\n",
       "  <thead>\n",
       "    <tr style=\"text-align: right;\">\n",
       "      <th></th>\n",
       "      <th>floor_area_sqm</th>\n",
       "      <th>mrt_nearest_distance</th>\n",
       "      <th>Hawker_Within_1km</th>\n",
       "      <th>Mall_Nearest_Distance</th>\n",
       "      <th>Mall_Within_1km</th>\n",
       "      <th>max_floor_lvl</th>\n",
       "      <th>mature_estate</th>\n",
       "      <th>unit_per_floor</th>\n",
       "      <th>multistorey_carpark</th>\n",
       "      <th>precinct_pavilion</th>\n",
       "      <th>...</th>\n",
       "      <th>unique_model</th>\n",
       "      <th>total_schools_within_1km</th>\n",
       "      <th>hawker_market_stalls</th>\n",
       "      <th>central</th>\n",
       "      <th>east</th>\n",
       "      <th>north</th>\n",
       "      <th>north_east</th>\n",
       "      <th>west</th>\n",
       "      <th>town</th>\n",
       "      <th>storey_range</th>\n",
       "    </tr>\n",
       "  </thead>\n",
       "  <tbody>\n",
       "    <tr>\n",
       "      <th>62829</th>\n",
       "      <td>127.0</td>\n",
       "      <td>411.828160</td>\n",
       "      <td>1.0</td>\n",
       "      <td>2031.273954</td>\n",
       "      <td>1.0</td>\n",
       "      <td>12</td>\n",
       "      <td>1</td>\n",
       "      <td>7.083333</td>\n",
       "      <td>0</td>\n",
       "      <td>0</td>\n",
       "      <td>...</td>\n",
       "      <td>0</td>\n",
       "      <td>2</td>\n",
       "      <td>75</td>\n",
       "      <td>0</td>\n",
       "      <td>1</td>\n",
       "      <td>0</td>\n",
       "      <td>0</td>\n",
       "      <td>0</td>\n",
       "      <td>BEDOK</td>\n",
       "      <td>07 TO 09</td>\n",
       "    </tr>\n",
       "    <tr>\n",
       "      <th>137824</th>\n",
       "      <td>85.0</td>\n",
       "      <td>1450.176785</td>\n",
       "      <td>1.0</td>\n",
       "      <td>482.702330</td>\n",
       "      <td>2.0</td>\n",
       "      <td>17</td>\n",
       "      <td>0</td>\n",
       "      <td>8.117647</td>\n",
       "      <td>0</td>\n",
       "      <td>0</td>\n",
       "      <td>...</td>\n",
       "      <td>0</td>\n",
       "      <td>2</td>\n",
       "      <td>0</td>\n",
       "      <td>0</td>\n",
       "      <td>0</td>\n",
       "      <td>0</td>\n",
       "      <td>1</td>\n",
       "      <td>0</td>\n",
       "      <td>SENGKANG</td>\n",
       "      <td>07 TO 09</td>\n",
       "    </tr>\n",
       "    <tr>\n",
       "      <th>128025</th>\n",
       "      <td>103.0</td>\n",
       "      <td>492.165442</td>\n",
       "      <td>1.0</td>\n",
       "      <td>347.640578</td>\n",
       "      <td>1.0</td>\n",
       "      <td>8</td>\n",
       "      <td>0</td>\n",
       "      <td>7.875000</td>\n",
       "      <td>0</td>\n",
       "      <td>0</td>\n",
       "      <td>...</td>\n",
       "      <td>0</td>\n",
       "      <td>2</td>\n",
       "      <td>94</td>\n",
       "      <td>0</td>\n",
       "      <td>0</td>\n",
       "      <td>0</td>\n",
       "      <td>0</td>\n",
       "      <td>1</td>\n",
       "      <td>JURONG WEST</td>\n",
       "      <td>07 TO 09</td>\n",
       "    </tr>\n",
       "    <tr>\n",
       "      <th>89497</th>\n",
       "      <td>110.0</td>\n",
       "      <td>1305.193879</td>\n",
       "      <td>1.0</td>\n",
       "      <td>399.429047</td>\n",
       "      <td>2.0</td>\n",
       "      <td>17</td>\n",
       "      <td>0</td>\n",
       "      <td>6.764706</td>\n",
       "      <td>0</td>\n",
       "      <td>0</td>\n",
       "      <td>...</td>\n",
       "      <td>0</td>\n",
       "      <td>2</td>\n",
       "      <td>0</td>\n",
       "      <td>0</td>\n",
       "      <td>0</td>\n",
       "      <td>0</td>\n",
       "      <td>1</td>\n",
       "      <td>0</td>\n",
       "      <td>SENGKANG</td>\n",
       "      <td>13 TO 15</td>\n",
       "    </tr>\n",
       "    <tr>\n",
       "      <th>73541</th>\n",
       "      <td>67.0</td>\n",
       "      <td>682.481418</td>\n",
       "      <td>2.0</td>\n",
       "      <td>792.139275</td>\n",
       "      <td>2.0</td>\n",
       "      <td>16</td>\n",
       "      <td>0</td>\n",
       "      <td>11.250000</td>\n",
       "      <td>0</td>\n",
       "      <td>0</td>\n",
       "      <td>...</td>\n",
       "      <td>0</td>\n",
       "      <td>2</td>\n",
       "      <td>0</td>\n",
       "      <td>0</td>\n",
       "      <td>0</td>\n",
       "      <td>0</td>\n",
       "      <td>1</td>\n",
       "      <td>0</td>\n",
       "      <td>PUNGGOL</td>\n",
       "      <td>01 TO 03</td>\n",
       "    </tr>\n",
       "  </tbody>\n",
       "</table>\n",
       "<p>5 rows × 28 columns</p>\n",
       "</div>"
      ],
      "text/plain": [
       "        floor_area_sqm  mrt_nearest_distance  Hawker_Within_1km  \\\n",
       "62829            127.0            411.828160                1.0   \n",
       "137824            85.0           1450.176785                1.0   \n",
       "128025           103.0            492.165442                1.0   \n",
       "89497            110.0           1305.193879                1.0   \n",
       "73541             67.0            682.481418                2.0   \n",
       "\n",
       "        Mall_Nearest_Distance  Mall_Within_1km  max_floor_lvl  mature_estate  \\\n",
       "62829             2031.273954              1.0             12              1   \n",
       "137824             482.702330              2.0             17              0   \n",
       "128025             347.640578              1.0              8              0   \n",
       "89497              399.429047              2.0             17              0   \n",
       "73541              792.139275              2.0             16              0   \n",
       "\n",
       "        unit_per_floor  multistorey_carpark  precinct_pavilion  ...  \\\n",
       "62829         7.083333                    0                  0  ...   \n",
       "137824        8.117647                    0                  0  ...   \n",
       "128025        7.875000                    0                  0  ...   \n",
       "89497         6.764706                    0                  0  ...   \n",
       "73541        11.250000                    0                  0  ...   \n",
       "\n",
       "        unique_model  total_schools_within_1km  hawker_market_stalls  central  \\\n",
       "62829              0                         2                    75        0   \n",
       "137824             0                         2                     0        0   \n",
       "128025             0                         2                    94        0   \n",
       "89497              0                         2                     0        0   \n",
       "73541              0                         2                     0        0   \n",
       "\n",
       "        east  north  north_east  west         town  storey_range  \n",
       "62829      1      0           0     0        BEDOK      07 TO 09  \n",
       "137824     0      0           1     0     SENGKANG      07 TO 09  \n",
       "128025     0      0           0     1  JURONG WEST      07 TO 09  \n",
       "89497      0      0           1     0     SENGKANG      13 TO 15  \n",
       "73541      0      0           1     0      PUNGGOL      01 TO 03  \n",
       "\n",
       "[5 rows x 28 columns]"
      ]
     },
     "execution_count": 19,
     "metadata": {},
     "output_type": "execute_result"
    }
   ],
   "source": [
    "# Train-test split\n",
    "y = (price['resale_price'])\n",
    "X_train, X_test, y_train, y_test = train_test_split(selected_data_imputed, y, test_size=0.2, random_state=2)\n",
    "X_train.head()"
   ]
  },
  {
   "cell_type": "code",
   "execution_count": 20,
   "id": "f78a8cd4",
   "metadata": {},
   "outputs": [],
   "source": [
    "# Initialize models\n",
    "lasso = Lasso()\n",
    "linear = LinearRegression()\n",
    "ridge = Ridge()"
   ]
  },
  {
   "cell_type": "code",
   "execution_count": 21,
   "id": "d705e280",
   "metadata": {},
   "outputs": [],
   "source": [
    "# Create a list to store the models\n",
    "models = [lasso, linear, ridge]\n",
    "model_names = ['Lasso', 'Linear Regression', 'Ridge']"
   ]
  },
  {
   "cell_type": "code",
   "execution_count": 22,
   "id": "61215620",
   "metadata": {},
   "outputs": [
    {
     "name": "stdout",
     "output_type": "stream",
     "text": [
      "---- Lasso ----\n",
      "Test RMSE for Lasso: 37353.726747633475\n",
      "Test R^2 for Lasso: 0.9320608274997072\n",
      "Train RMSE for Lasso: 37732.41076770855\n",
      "Train R^2 for Lasso: 0.9306735358330613\n",
      "------------\n",
      "---- Linear Regression ----\n",
      "Test RMSE for Linear Regression: 37341.85996050149\n",
      "Test R^2 for Linear Regression: 0.932103987403978\n",
      "Train RMSE for Linear Regression: 37715.232613666914\n",
      "Train R^2 for Linear Regression: 0.9307366449517287\n",
      "------------\n",
      "---- Ridge ----\n",
      "Test RMSE for Ridge: 37349.21362292356\n",
      "Test R^2 for Ridge: 0.9320772435021729\n",
      "Train RMSE for Ridge: 37716.828544211596\n",
      "Train R^2 for Ridge: 0.9307307830314889\n",
      "------------\n"
     ]
    }
   ],
   "source": [
    "# Loop through each model to train, predict, and evaluate\n",
    "for model, name in zip(models, model_names):\n",
    "    print(f\"---- {name} ----\")\n",
    "    \n",
    "    # Create pipeline\n",
    "    pipeline = Pipeline(steps=[('preprocessor', preprocessor), ('regressor', model)])\n",
    "    \n",
    "    # Train the model on the training data\n",
    "    pipeline.fit(X_train, y_train)\n",
    "    \n",
    "    # Make predictions on the test and training sets\n",
    "    y_pred_test = pipeline.predict(X_test)\n",
    "    y_pred_train = pipeline.predict(X_train)\n",
    "    \n",
    "    # Calculate RMSE and R^2 for the test set\n",
    "    rmse_test = np.sqrt(mean_squared_error(y_test, y_pred_test))\n",
    "    r2_test = r2_score(y_test, y_pred_test)\n",
    "    \n",
    "    # Calculate RMSE and R^2 for the training set\n",
    "    rmse_train = np.sqrt(mean_squared_error(y_train, y_pred_train))\n",
    "    r2_train = r2_score(y_train, y_pred_train)\n",
    "    \n",
    "    # Print the metrics\n",
    "    print(f\"Test RMSE for {name}: {rmse_test}\")\n",
    "    print(f\"Test R^2 for {name}: {r2_test}\")\n",
    "    print(f\"Train RMSE for {name}: {rmse_train}\")\n",
    "    print(f\"Train R^2 for {name}: {r2_train}\")\n",
    "    print(\"------------\")"
   ]
  },
  {
   "cell_type": "markdown",
   "id": "51ebb1a7",
   "metadata": {},
   "source": [
    "### Create Residual Plot"
   ]
  },
  {
   "cell_type": "code",
   "execution_count": 23,
   "id": "1dc3f468",
   "metadata": {},
   "outputs": [
    {
     "data": {
      "image/png": "[encoded data removed]",
      "text/plain": [
       "<Figure size 640x480 with 1 Axes>"
      ]
     },
     "metadata": {},
     "output_type": "display_data"
    },
    {
     "data": {
      "text/plain": [
       "count     30127.000000\n",
       "mean         -5.639796\n",
       "std       37349.833075\n",
       "min     -241220.755691\n",
       "25%      -22448.310678\n",
       "50%       -1144.662321\n",
       "75%       20810.331958\n",
       "max      275169.812177\n",
       "Name: resale_price, dtype: float64"
      ]
     },
     "execution_count": 23,
     "metadata": {},
     "output_type": "execute_result"
    }
   ],
   "source": [
    "# Scatter plot\n",
    "models = [linear]\n",
    "model_names = ['Linear Regression']\n",
    "\n",
    "y_pred_test = pipeline.predict(X_test)\n",
    "\n",
    "# Create residuals (aka errors): (y - y_hat)\n",
    "resids = y_test - y_pred_test\n",
    "\n",
    "plt.scatter(y_pred_test, resids, s=1, alpha = 0.5)\n",
    "plt.axhline(0, color=\"orange\");\n",
    "\n",
    "\n",
    "# Title and labels\n",
    "plt.title('Residual Plot')\n",
    "plt.xlabel('Predicted values')\n",
    "plt.ylabel('Residuals')\n",
    "\n",
    "# Show the plot\n",
    "plt.show()\n",
    "resids.describe()"
   ]
  }
 ],
 "metadata": {
  "kernelspec": {
   "display_name": "Python 3 (ipykernel)",
   "language": "python",
   "name": "python3"
  },
  "language_info": {
   "codemirror_mode": {
    "name": "ipython",
    "version": 3
   },
   "file_extension": ".py",
   "mimetype": "text/x-python",
   "name": "python",
   "nbconvert_exporter": "python",
   "pygments_lexer": "ipython3",
   "version": "3.11.4"
  }
 },
 "nbformat": 4,
 "nbformat_minor": 5
}
