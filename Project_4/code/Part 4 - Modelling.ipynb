{
 "cells": [
  {
   "cell_type": "markdown",
   "id": "565501af",
   "metadata": {},
   "source": [
    "<img src=\"http://imgur.com/1ZcRyrc.png\" style=\"float: left; margin: 20px; height: 55px\">\n",
    "\n",
    "# Project 4: Nutri-Grade labels"
   ]
  },
  {
   "cell_type": "markdown",
   "id": "d2b4f19e-0a70-4402-8418-151c8200401d",
   "metadata": {},
   "source": [
    "---\n",
    "## Problem Statement\n",
    "Singaporeans are living longer but spending more time in ill-health. There are top 3 chronic medical conditions that Singaporeans suffer from are: Hypertension, Diabetes and Hyperlipidemia<br>\n",
    "\n",
    "There are 3 main ways to prevent chronic illness:\n",
    "- Physical Activity (Engage in at least 150-300 minutes of moderate-intensity aerobic activity in a week)\n",
    "- Diet (Consume the receommended dietary allowances for sugar, saturated fat and salt)\n",
    "- Healthy life choices (Avoid tobacco and excessive drinking)<br>\n",
    "\n",
    "We will focus on the diet portion. More than half of Singaporeans’ daily sugar intake comes from beverages. This is why the government has came up with a nutri-grade labelling system in hopes that Singaporeans will reduce their sugar intake by making heatheir choices when choosing which drink to buy. However the nutrigrade labels only take into account trans fat and sugar and do not provide a holistic picture of the health of the drinks. Is there a way to create a more comprehensive indicator of how healthy drinks are?"
   ]
  },
  {
   "cell_type": "markdown",
   "id": "7632c8cf-75aa-446f-9f6c-95bff58f43e8",
   "metadata": {},
   "source": [
    "## Contents:\n",
    "- [Import libraries](#Import-libraries)\n",
    "- [Import data](#Import-data)\n",
    "- [1. Identifying non-numeric columns](#1.-Identifying-non-numeric-columns)\n",
    "- [2. One Hot Encode](#2.-One-Hot-Encode)\n",
    "- [3. SMOTE](#3.-SMOTE)\n",
    "- [4. Standard Scaler](#4.-Standard-Scaler)\n",
    "- [5. Principal Component Analysis](#5.-Principal-Component-Analysis)\n",
    "- [6. Elbow Method](#6.-Elbow-Method)\n",
    "- [7. K-means clustering](#7.-K-means-clustering)\n",
    "- [8. Gaussian Mixture Model Clustering & Spectral Clustering](#8.-Gaussian-Mixture-Model-Clustering-&-Spectral-Clustering)\n",
    "- [9.(A&B). RandomForest](#9.(A&B).-RandomForest)\n",
    "- [10.(A&B) XGBoost](#10.(A&B)-XGBoost)\n",
    "- [11. Pickle file for deployment](#11.-Pickle-file-for-deployment)\n",
    "- [12. Conclusion](#12.-Conclusion)"
   ]
  },
  {
   "cell_type": "markdown",
   "id": "dbd7534a-ac57-4288-b84f-8a52f8076780",
   "metadata": {},
   "source": [
    "# Import libraries"
   ]
  },
  {
   "cell_type": "code",
   "execution_count": 1,
   "id": "fdf0a143",
   "metadata": {},
   "outputs": [],
   "source": [
    "# Importing the libraries necessary to train the models\n",
    "import pandas as pd\n",
    "from sklearn.preprocessing import LabelEncoder, OneHotEncoder, StandardScaler, RobustScaler\n",
    "from sklearn.cluster import KMeans, AgglomerativeClustering, SpectralClustering\n",
    "import numpy as np\n",
    "import matplotlib.pyplot as plt\n",
    "from sklearn.decomposition import PCA\n",
    "import scipy.cluster.hierarchy as sch\n",
    "from imblearn.over_sampling import SMOTE\n",
    "from sklearn.mixture import GaussianMixture\n",
    "from sklearn.model_selection import train_test_split, GridSearchCV\n",
    "from sklearn.ensemble import RandomForestClassifier\n",
    "from sklearn.metrics import classification_report, accuracy_score\n",
    "import xgboost as xgb\n",
    "\n",
    "import warnings\n",
    "warnings.filterwarnings('ignore')"
   ]
  },
  {
   "cell_type": "markdown",
   "id": "e89c460b-ee02-4113-9a3d-514915f0f692",
   "metadata": {},
   "source": [
    "# Import data"
   ]
  },
  {
   "cell_type": "code",
   "execution_count": 2,
   "id": "2e5df52e",
   "metadata": {},
   "outputs": [],
   "source": [
    "model = pd.read_csv('../data/model_csv.csv')"
   ]
  },
  {
   "cell_type": "markdown",
   "id": "1d610803",
   "metadata": {},
   "source": [
    "# 1. Identifying non-numeric columns.\n",
    "\n",
    "###### In the following cell, we're identifying non-numeric columns because k-means clustering is a distance based algorithm. It calculates the distance between data points to determine clusters. These distances are computed using numerical values. Therefore, if our datasets contains non-numeric columns, the algorithm will not be able to process them."
   ]
  },
  {
   "cell_type": "code",
   "execution_count": 3,
   "id": "c1e4f890",
   "metadata": {},
   "outputs": [],
   "source": [
    "#This code identifies and lists the names of numeric and non-numeric columns from the model DataFrame\n",
    "numeric_columns = model.select_dtypes(include=['float64', 'int64']).columns.tolist()\n",
    "non_numeric_columns = model.select_dtypes(exclude=['float64', 'int64']).columns.tolist()"
   ]
  },
  {
   "cell_type": "markdown",
   "id": "4e648202",
   "metadata": {},
   "source": [
    "# 2. One Hot Encode\n",
    "\n",
    "###### 1. Numerical Conversion: OHE transforms categorical data for machine learning algorithms.\n",
    "###### 2. Avoids Misinterpretation: Prevents models from assuming ordinal relationships in categories.\n",
    "###### 3. Preserves Information: Ensures each category is independently represented in the model."
   ]
  },
  {
   "cell_type": "code",
   "execution_count": 4,
   "id": "cdd6d6de",
   "metadata": {
    "scrolled": true
   },
   "outputs": [],
   "source": [
    "# One-Hot Encoding (OHE) the non-numeric columns\n",
    "encoder = OneHotEncoder(drop='first', sparse=False)\n",
    "model_encoded = pd.DataFrame(encoder.fit_transform(model[non_numeric_columns]), \n",
    "                             columns=encoder.get_feature_names_out(non_numeric_columns))"
   ]
  },
  {
   "cell_type": "code",
   "execution_count": 5,
   "id": "d21824f6",
   "metadata": {},
   "outputs": [],
   "source": [
    "# Combine the numeric and encoded columns\n",
    "model_combined = pd.concat([model[numeric_columns], model_encoded.reset_index(drop=True)], axis=1)"
   ]
  },
  {
   "cell_type": "markdown",
   "id": "ae3c9ffe",
   "metadata": {},
   "source": [
    "# 3. SMOTE : Synthetic Minority Oversampling Technique\n",
    "\n",
    "###### During the cleaning and classifying the drinks based on ABCD according to HPB guidelines, we have noticed a large discrepancy of rows between A,B,C,D. To ensure the model is accurate, we check the number of rows that belongs to columns A,B,C,D. Therefore, we will use SMOTE to upsample classes which are significantly lesser than the others.\n",
    "\n",
    "###### 1. Check the number of rows thats belongs to A , B , C, D\n",
    "###### 2. SMOTE the other 3 classes to match the dominant class"
   ]
  },
  {
   "cell_type": "code",
   "execution_count": 6,
   "id": "90936313",
   "metadata": {},
   "outputs": [
    {
     "data": {
      "text/plain": [
       "D    174\n",
       "A    115\n",
       "C     85\n",
       "B     50\n",
       "Name: nutrigrade, dtype: int64"
      ]
     },
     "execution_count": 6,
     "metadata": {},
     "output_type": "execute_result"
    }
   ],
   "source": [
    "# Check the distribution of the 'nutrigrade' values\n",
    "nutrigrade_distribution = model['nutrigrade'].value_counts()\n",
    "nutrigrade_distribution\n"
   ]
  },
  {
   "cell_type": "markdown",
   "id": "05a42ae6",
   "metadata": {},
   "source": [
    "#### Preperation of SMOTING.\n",
    "\n",
    "###### 1. Dropping columns for Nutrigrade B,C,D because these columns are OHE-d representations of the nutrigrade Y variable\n",
    "###### 2. This is done so to prevent multicollinearity\n",
    "###### 3. To use the original Nutrigrade column as Y for prediction"
   ]
  },
  {
   "cell_type": "code",
   "execution_count": 7,
   "id": "40b90aa2",
   "metadata": {
    "scrolled": true
   },
   "outputs": [
    {
     "data": {
      "text/plain": [
       "((424, 953), (424,))"
      ]
     },
     "execution_count": 7,
     "metadata": {},
     "output_type": "execute_result"
    }
   ],
   "source": [
    "# Separate the data into features and target\n",
    "X = model_combined.drop(columns=['nutrigrade_B', 'nutrigrade_C', 'nutrigrade_D'])\n",
    "y = model['nutrigrade']\n",
    "\n",
    "X.shape, y.shape"
   ]
  },
  {
   "cell_type": "code",
   "execution_count": 8,
   "id": "7a10816b",
   "metadata": {},
   "outputs": [
    {
     "data": {
      "text/plain": [
       "B    174\n",
       "A    174\n",
       "C    174\n",
       "D    174\n",
       "Name: nutrigrade, dtype: int64"
      ]
     },
     "execution_count": 8,
     "metadata": {},
     "output_type": "execute_result"
    }
   ],
   "source": [
    "# Apply SMOTE to balance the classes\n",
    "smote = SMOTE(sampling_strategy='auto', random_state=2)\n",
    "X_resampled, y_resampled = smote.fit_resample(X, y)\n",
    "\n",
    "# Check the distribution of the resampled 'nutrigrade' values\n",
    "y_resampled_distribution = y_resampled.value_counts()\n",
    "y_resampled_distribution"
   ]
  },
  {
   "cell_type": "markdown",
   "id": "fe138fd1",
   "metadata": {},
   "source": [
    "##### The classes are now balanced after applying SMOTE"
   ]
  },
  {
   "cell_type": "markdown",
   "id": "01af5c5e",
   "metadata": {},
   "source": [
    "# 4. Standard Scaler\n",
    "\n",
    "#### In the following cell, we will use standard scaler for these reasons\n",
    "\n",
    "###### 1. Its used to standardize features by removing the mean and scaling to unit variance\n",
    "###### 2. Ensures that all features contribute equally to model's performance. Improving accuracy and stability."
   ]
  },
  {
   "cell_type": "code",
   "execution_count": 9,
   "id": "a3fdfee2",
   "metadata": {},
   "outputs": [],
   "source": [
    "# Standardize the resampled data for better clustering results\n",
    "scaler = StandardScaler()\n",
    "X_resampled_scaled = scaler.fit_transform(X_resampled)"
   ]
  },
  {
   "cell_type": "markdown",
   "id": "e177a96b",
   "metadata": {},
   "source": [
    "# 5. Principal Component Analysis(PCA)\n",
    "\n",
    "###### 1. We're using PCA to reduce the number of features whilst preserving information\n",
    "###### 2. Transforms data into 2D or 3D for easier visualizations\n",
    "###### 3. Helps in removing noise by focusing on data variance"
   ]
  },
  {
   "cell_type": "code",
   "execution_count": 10,
   "id": "b218d915",
   "metadata": {},
   "outputs": [],
   "source": [
    "# Reduce data dimensionality to 2D using PCA\n",
    "pca = PCA(n_components=2)\n",
    "X_pca = pca.fit_transform(X_resampled_scaled)"
   ]
  },
  {
   "cell_type": "markdown",
   "id": "b700a1e6",
   "metadata": {},
   "source": [
    " # 6. Elbow method\n",
    " \n",
    "###### The Elbow method helps determine the optimal number of clusters for k-means clustering by plotting the sum of squared distances and identifying the \"elbow\" point where the rate of decrease sharply changes."
   ]
  },
  {
   "cell_type": "code",
   "execution_count": 11,
   "id": "5a1ca604",
   "metadata": {},
   "outputs": [],
   "source": [
    "# Calculate the sum of squared distances for a range of cluster numbers\n",
    "inertia = []\n",
    "cluster_range = range(1, 10)  # Range to to 10 clusters"
   ]
  },
  {
   "cell_type": "code",
   "execution_count": 12,
   "id": "e3a7b07e",
   "metadata": {},
   "outputs": [],
   "source": [
    "for num_clusters in cluster_range:\n",
    "    kmeans = KMeans(n_clusters=num_clusters, random_state=2)\n",
    "    kmeans.fit(X_resampled_scaled)\n",
    "    inertia.append(kmeans.inertia_)"
   ]
  },
  {
   "cell_type": "code",
   "execution_count": 13,
   "id": "1022c302",
   "metadata": {},
   "outputs": [
    {
     "data": {
      "image/png": "[encoded data removed]",
      "text/plain": [
       "<Figure size 1000x600 with 1 Axes>"
      ]
     },
     "metadata": {},
     "output_type": "display_data"
    }
   ],
   "source": [
    "# Plot the Elbow method\n",
    "plt.figure(figsize=(10, 6))\n",
    "plt.plot(cluster_range, inertia, marker='o', linestyle='--')\n",
    "plt.title('Elbow Method for Optimal Number of Clusters')\n",
    "plt.xlabel('Number of Clusters')\n",
    "plt.ylabel('Inertia (Sum of Squared Distances)')\n",
    "plt.grid(True)\n",
    "plt.show()"
   ]
  },
  {
   "cell_type": "markdown",
   "id": "2ce1f218",
   "metadata": {},
   "source": [
    "###### From the Elbow Method, it can be seen that from \"Cluster 8\" onwards, there is a sharp dive. So we chose 8 clusters for our n_clusters"
   ]
  },
  {
   "cell_type": "markdown",
   "id": "627b8615",
   "metadata": {},
   "source": [
    "# 7. K-means clustering \n",
    "\n",
    "### We will use k-means clustering to identify the different groups of drinks. \n",
    "\n",
    "###### Even though there is a hardcoded portion that is aligned with Health Promotion Board's(HPB) standard (Nutrigrade A,B,C,D), we want to make this model future proof. Standards set by HPB will change over time which is one of the factors why we want to make this model fluid to suit changing times. "
   ]
  },
  {
   "cell_type": "code",
   "execution_count": 14,
   "id": "05f4eee4",
   "metadata": {},
   "outputs": [],
   "source": [
    "# Performing K-means clustering\n",
    "kmeans = KMeans(n_clusters=8, random_state=2)\n",
    "kmeans_clusters = kmeans.fit_predict(X_resampled_scaled)"
   ]
  },
  {
   "cell_type": "code",
   "execution_count": 15,
   "id": "5812ccf0",
   "metadata": {},
   "outputs": [],
   "source": [
    "# Using PCA to reduce data dimensionality to 2D for visualization\n",
    "X_pca_kmeans = pca.transform(X_resampled_scaled)"
   ]
  },
  {
   "cell_type": "code",
   "execution_count": 16,
   "id": "acf82f71",
   "metadata": {},
   "outputs": [
    {
     "data": {
      "image/png": "[encoded data removed]",
      "text/plain": [
       "<Figure size 1000x600 with 2 Axes>"
      ]
     },
     "metadata": {},
     "output_type": "display_data"
    }
   ],
   "source": [
    "plt.figure(figsize=(10, 6))\n",
    "plt.scatter(X_pca_kmeans[:, 0], X_pca_kmeans[:, 1], c=kmeans_clusters, cmap='viridis', s=50)\n",
    "plt.title('K-means Clustering')\n",
    "plt.xlabel('PCA 1')\n",
    "plt.ylabel('PCA 2')\n",
    "plt.colorbar()\n",
    "plt.show()"
   ]
  },
  {
   "cell_type": "markdown",
   "id": "59ca71cb",
   "metadata": {},
   "source": [
    "## End of K-means clustering\n",
    "\n",
    "### It can seen from the plot that there is no visible clusters. This is because of the following reasons:\n",
    "    \n",
    "#### 1. Drinks likely have more or less the same attributes with miniscule changes in terms of ingredients used.\n",
    "#### 2. Due to time constraints, we were unable to scrape the entire drinks list.\n",
    "\n",
    "#### 3. However, this is not the end of the world, as according to HPB's standard guideline, even the most miniscule of changes do impact the grade of each drink. This is shown in our Nutrigrade column which includes Sodium that has taken into account of the recommended levels for adults."
   ]
  },
  {
   "cell_type": "markdown",
   "id": "34e038b3",
   "metadata": {},
   "source": [
    "# 8. Gaussian Mixture Model Clustering & Spectral Clustering\n",
    "\n",
    "##### 1. In the following cells, apart of K-Means Clustering, we will also explore other clustering methods as well predicting 8 clusters from the aforementioned elbow method.\n",
    "    \n",
    "##### 2. This is to make sure we do not miss out on any potential insights.\n",
    "##### 3. Hierarchy Agglomerative Clustering Methods and DBScan were tried out as well but yielded unintepretable results."
   ]
  },
  {
   "cell_type": "code",
   "execution_count": 17,
   "id": "3ba31e2f",
   "metadata": {},
   "outputs": [],
   "source": [
    "# Gaussian Mixture Model clustering\n",
    "gmm = GaussianMixture(n_components=8, random_state=2)\n",
    "gmm_clusters = gmm.fit_predict(X_resampled_scaled)\n",
    "\n",
    "# Spectral Clustering\n",
    "spectral = SpectralClustering(n_clusters=8, affinity='nearest_neighbors', random_state=2)\n",
    "spectral_clusters = spectral.fit_predict(X_resampled_scaled)\n",
    "\n"
   ]
  },
  {
   "cell_type": "code",
   "execution_count": 18,
   "id": "14946d8c",
   "metadata": {},
   "outputs": [
    {
     "data": {
      "image/png": "[encoded data removed]",
      "text/plain": [
       "<Figure size 1500x600 with 2 Axes>"
      ]
     },
     "metadata": {},
     "output_type": "display_data"
    }
   ],
   "source": [
    "# Create scatter plots\n",
    "fig, (ax1, ax2) = plt.subplots(1, 2, figsize=(15, 6))\n",
    "\n",
    "# GMM Clustering plot\n",
    "ax1.scatter(X_pca[:, 0], X_pca[:, 1], c=gmm_clusters, cmap='viridis', s=50)\n",
    "ax1.set_title('Gaussian Mixture Model Clustering')\n",
    "\n",
    "# Spectral Clustering plot\n",
    "ax2.scatter(X_pca[:, 0], X_pca[:, 1], c=spectral_clusters, cmap='viridis', s=50)\n",
    "ax2.set_title('Spectral Clustering')\n",
    "\n",
    "plt.tight_layout()\n",
    "plt.show()"
   ]
  },
  {
   "cell_type": "markdown",
   "id": "3d30c0bb",
   "metadata": {},
   "source": [
    "As seen from the 2 plots, it is somewhat similar to k-means clustering.\n",
    "\n",
    "    1. Again, due to time constraints, we did not explore other visualizations methods."
   ]
  },
  {
   "cell_type": "markdown",
   "id": "0bd490bf",
   "metadata": {},
   "source": [
    "# Modelling\n",
    "\n",
    "##### From here, we will proceed with modelling. Our choice of models are of classifiers. eg.(Random Forest, XGBoost)\n",
    "##### We chose these 2 models because:\n",
    "\n",
    "###### 1. Feature Importance: Both algorithms provide insights into feature importance, helping in understanding which factors most influence 'nutrigrade' classifications.\n",
    "    \n",
    "###### 2. Handling Imbalanced Data: XGBoost, in particular, has parameters to handle class imbalance, which can be crucial if certain 'nutrigrade' classes are underrepresented.\n",
    "    \n",
    "###### 3. Flexibility: Both algorithms handle a mix of numerical and categorical features and can be fine-tuned with hyperparameters to optimize performance.\n",
    "  "
   ]
  },
  {
   "cell_type": "markdown",
   "id": "d41e59e9",
   "metadata": {},
   "source": [
    "# 9(A). Random Forest"
   ]
  },
  {
   "cell_type": "code",
   "execution_count": 19,
   "id": "5f555805",
   "metadata": {},
   "outputs": [],
   "source": [
    "# Split the data into training and test sets\n",
    "X_train, X_test, y_train, y_test = train_test_split(X_resampled_scaled, y_resampled, test_size=0.3, random_state=2)"
   ]
  },
  {
   "cell_type": "code",
   "execution_count": 20,
   "id": "38d2d1de",
   "metadata": {},
   "outputs": [],
   "source": [
    "# Initialize the Random Forest Classifier\n",
    "rf_classifier = RandomForestClassifier(random_state=2)"
   ]
  },
  {
   "cell_type": "code",
   "execution_count": 21,
   "id": "e8ab8fc6",
   "metadata": {},
   "outputs": [
    {
     "data": {
      "text/html": [
       "<style>#sk-container-id-1 {color: black;}#sk-container-id-1 pre{padding: 0;}#sk-container-id-1 div.sk-toggleable {background-color: white;}#sk-container-id-1 label.sk-toggleable__label {cursor: pointer;display: block;width: 100%;margin-bottom: 0;padding: 0.3em;box-sizing: border-box;text-align: center;}#sk-container-id-1 label.sk-toggleable__label-arrow:before {content: \"▸\";float: left;margin-right: 0.25em;color: #696969;}#sk-container-id-1 label.sk-toggleable__label-arrow:hover:before {color: black;}#sk-container-id-1 div.sk-estimator:hover label.sk-toggleable__label-arrow:before {color: black;}#sk-container-id-1 div.sk-toggleable__content {max-height: 0;max-width: 0;overflow: hidden;text-align: left;background-color: #f0f8ff;}#sk-container-id-1 div.sk-toggleable__content pre {margin: 0.2em;color: black;border-radius: 0.25em;background-color: #f0f8ff;}#sk-container-id-1 input.sk-toggleable__control:checked~div.sk-toggleable__content {max-height: 200px;max-width: 100%;overflow: auto;}#sk-container-id-1 input.sk-toggleable__control:checked~label.sk-toggleable__label-arrow:before {content: \"▾\";}#sk-container-id-1 div.sk-estimator input.sk-toggleable__control:checked~label.sk-toggleable__label {background-color: #d4ebff;}#sk-container-id-1 div.sk-label input.sk-toggleable__control:checked~label.sk-toggleable__label {background-color: #d4ebff;}#sk-container-id-1 input.sk-hidden--visually {border: 0;clip: rect(1px 1px 1px 1px);clip: rect(1px, 1px, 1px, 1px);height: 1px;margin: -1px;overflow: hidden;padding: 0;position: absolute;width: 1px;}#sk-container-id-1 div.sk-estimator {font-family: monospace;background-color: #f0f8ff;border: 1px dotted black;border-radius: 0.25em;box-sizing: border-box;margin-bottom: 0.5em;}#sk-container-id-1 div.sk-estimator:hover {background-color: #d4ebff;}#sk-container-id-1 div.sk-parallel-item::after {content: \"\";width: 100%;border-bottom: 1px solid gray;flex-grow: 1;}#sk-container-id-1 div.sk-label:hover label.sk-toggleable__label {background-color: #d4ebff;}#sk-container-id-1 div.sk-serial::before {content: \"\";position: absolute;border-left: 1px solid gray;box-sizing: border-box;top: 0;bottom: 0;left: 50%;z-index: 0;}#sk-container-id-1 div.sk-serial {display: flex;flex-direction: column;align-items: center;background-color: white;padding-right: 0.2em;padding-left: 0.2em;position: relative;}#sk-container-id-1 div.sk-item {position: relative;z-index: 1;}#sk-container-id-1 div.sk-parallel {display: flex;align-items: stretch;justify-content: center;background-color: white;position: relative;}#sk-container-id-1 div.sk-item::before, #sk-container-id-1 div.sk-parallel-item::before {content: \"\";position: absolute;border-left: 1px solid gray;box-sizing: border-box;top: 0;bottom: 0;left: 50%;z-index: -1;}#sk-container-id-1 div.sk-parallel-item {display: flex;flex-direction: column;z-index: 1;position: relative;background-color: white;}#sk-container-id-1 div.sk-parallel-item:first-child::after {align-self: flex-end;width: 50%;}#sk-container-id-1 div.sk-parallel-item:last-child::after {align-self: flex-start;width: 50%;}#sk-container-id-1 div.sk-parallel-item:only-child::after {width: 0;}#sk-container-id-1 div.sk-dashed-wrapped {border: 1px dashed gray;margin: 0 0.4em 0.5em 0.4em;box-sizing: border-box;padding-bottom: 0.4em;background-color: white;}#sk-container-id-1 div.sk-label label {font-family: monospace;font-weight: bold;display: inline-block;line-height: 1.2em;}#sk-container-id-1 div.sk-label-container {text-align: center;}#sk-container-id-1 div.sk-container {/* jupyter's `normalize.less` sets `[hidden] { display: none; }` but bootstrap.min.css set `[hidden] { display: none !important; }` so we also need the `!important` here to be able to override the default hidden behavior on the sphinx rendered scikit-learn.org. See: https://github.com/scikit-learn/scikit-learn/issues/21755 */display: inline-block !important;position: relative;}#sk-container-id-1 div.sk-text-repr-fallback {display: none;}</style><div id=\"sk-container-id-1\" class=\"sk-top-container\"><div class=\"sk-text-repr-fallback\"><pre>RandomForestClassifier(random_state=2)</pre><b>In a Jupyter environment, please rerun this cell to show the HTML representation or trust the notebook. <br />On GitHub, the HTML representation is unable to render, please try loading this page with nbviewer.org.</b></div><div class=\"sk-container\" hidden><div class=\"sk-item\"><div class=\"sk-estimator sk-toggleable\"><input class=\"sk-toggleable__control sk-hidden--visually\" id=\"sk-estimator-id-1\" type=\"checkbox\" checked><label for=\"sk-estimator-id-1\" class=\"sk-toggleable__label sk-toggleable__label-arrow\">RandomForestClassifier</label><div class=\"sk-toggleable__content\"><pre>RandomForestClassifier(random_state=2)</pre></div></div></div></div></div>"
      ],
      "text/plain": [
       "RandomForestClassifier(random_state=2)"
      ]
     },
     "execution_count": 21,
     "metadata": {},
     "output_type": "execute_result"
    }
   ],
   "source": [
    "# Train the classifier\n",
    "rf_classifier.fit(X_train, y_train)"
   ]
  },
  {
   "cell_type": "code",
   "execution_count": 22,
   "id": "9b1bed2d",
   "metadata": {},
   "outputs": [],
   "source": [
    "# Predict on the test data\n",
    "y_pred_rf = rf_classifier.predict(X_test)"
   ]
  },
  {
   "cell_type": "code",
   "execution_count": 23,
   "id": "060fab8a",
   "metadata": {},
   "outputs": [],
   "source": [
    "# Predict on the training data for training accuracy\n",
    "y_pred_train_rf = rf_classifier.predict(X_train)"
   ]
  },
  {
   "cell_type": "code",
   "execution_count": 24,
   "id": "23430858",
   "metadata": {},
   "outputs": [
    {
     "name": "stdout",
     "output_type": "stream",
     "text": [
      "Random Forest Training Accuracy: 1.0\n",
      "Random Forest Test Accuracy: 0.9617224880382775\n"
     ]
    }
   ],
   "source": [
    "# Calculate training and test accuracies\n",
    "accuracy_train_rf = accuracy_score(y_train, y_pred_train_rf)\n",
    "accuracy_test_rf = accuracy_score(y_test, y_pred_rf)\n",
    "print(f\"Random Forest Training Accuracy: {accuracy_train_rf}\")\n",
    "print(f\"Random Forest Test Accuracy: {accuracy_test_rf}\")"
   ]
  },
  {
   "cell_type": "code",
   "execution_count": 25,
   "id": "597966e6",
   "metadata": {
    "scrolled": true
   },
   "outputs": [
    {
     "name": "stdout",
     "output_type": "stream",
     "text": [
      "Random Forest Classification Report:\n",
      "              precision    recall  f1-score   support\n",
      "\n",
      "           A       0.94      1.00      0.97        49\n",
      "           B       0.98      0.94      0.96        50\n",
      "           C       0.94      0.96      0.95        52\n",
      "           D       0.98      0.95      0.96        58\n",
      "\n",
      "    accuracy                           0.96       209\n",
      "   macro avg       0.96      0.96      0.96       209\n",
      "weighted avg       0.96      0.96      0.96       209\n",
      "\n"
     ]
    }
   ],
   "source": [
    "# Classification report for Random Forest\n",
    "classification_rep_rf = classification_report(y_test, y_pred_rf)\n",
    "print(\"Random Forest Classification Report:\")\n",
    "print(classification_rep_rf)"
   ]
  },
  {
   "cell_type": "markdown",
   "id": "98cbd092",
   "metadata": {},
   "source": [
    "### Train scores and Test scores from RF yielded 1.0 and 0.96 respectively.\n",
    "    \n",
    "###### 1. We will now look for the best hyper parameters to tune the model\n",
    "###### 2. This is done so that we don't have to do trial and error on different n_estimators or other metrics"
   ]
  },
  {
   "cell_type": "markdown",
   "id": "5a5c3756",
   "metadata": {},
   "source": [
    "# 9(B). Random Forest tuning using GridSearchCV"
   ]
  },
  {
   "cell_type": "markdown",
   "id": "1436209e",
   "metadata": {},
   "source": [
    "###### The param_grid specifies a range of values for each hyperparameter in the Random Forest classifier, and when used in grid search, the algorithm will exhaustively test all combinations of these hyperparameters to find the best model."
   ]
  },
  {
   "cell_type": "code",
   "execution_count": 26,
   "id": "7132e1da",
   "metadata": {},
   "outputs": [],
   "source": [
    "param_grid = {\n",
    "    'n_estimators': [10, 50, 100, 150, 200],\n",
    "    'max_depth': [None, 10, 20, 30, 40],\n",
    "    'min_samples_split': [2, 5, 10],\n",
    "    'min_samples_leaf': [1, 2, 4],\n",
    "    'max_features': ['auto', 'sqrt'],\n",
    "    'bootstrap': [True, False]\n",
    "}"
   ]
  },
  {
   "cell_type": "markdown",
   "id": "2d343d66",
   "metadata": {},
   "source": [
    "###### The grid_search initializes a Grid Search with the specified Random Forest classifier and hyperparameter grid, testing each combination using 3-fold cross-validation"
   ]
  },
  {
   "cell_type": "code",
   "execution_count": 27,
   "id": "d916034c",
   "metadata": {},
   "outputs": [],
   "source": [
    "grid_search = GridSearchCV(estimator=rf_classifier, param_grid=param_grid, \n",
    "                           cv=3, n_jobs=-1, verbose=2, scoring='accuracy')"
   ]
  },
  {
   "cell_type": "markdown",
   "id": "0145e07b",
   "metadata": {},
   "source": [
    "###### This code below fits the initialized Grid Search to the training data to find the best model hyperparameters. After fitting, it retrieves and prints the best hyperparameters based on the model performance during cross-validation.\n",
    "    \n",
    "###### It may take awhile. Approximately 5mins to run this cell"
   ]
  },
  {
   "cell_type": "code",
   "execution_count": 28,
   "id": "9e4ddf44",
   "metadata": {},
   "outputs": [
    {
     "name": "stdout",
     "output_type": "stream",
     "text": [
      "Fitting 3 folds for each of 900 candidates, totalling 2700 fits\n",
      "Best Hyperparameters: {'bootstrap': False, 'max_depth': 30, 'max_features': 'sqrt', 'min_samples_leaf': 1, 'min_samples_split': 2, 'n_estimators': 150}\n"
     ]
    }
   ],
   "source": [
    "# Fit the GridSearchCV target to the data\n",
    "grid_search.fit(X_train, y_train)\n",
    "\n",
    "# Get the best hyperparameters\n",
    "best_params = grid_search.best_params_\n",
    "\n",
    "print(f\"Best Hyperparameters: {best_params}\")"
   ]
  },
  {
   "cell_type": "markdown",
   "id": "a27e5eff",
   "metadata": {},
   "source": [
    "##### The following cells will test the RF model using the best parameters from grid search CV"
   ]
  },
  {
   "cell_type": "code",
   "execution_count": 29,
   "id": "376ae2d5",
   "metadata": {},
   "outputs": [],
   "source": [
    "# Paremeters gotten from best_params\n",
    "best_params = {\n",
    "    'bootstrap': False,\n",
    "    'max_depth': 30,\n",
    "    'max_features': 'sqrt',\n",
    "    'min_samples_leaf': 1,\n",
    "    'min_samples_split': 2,\n",
    "    'n_estimators': 150\n",
    "}\n",
    "\n",
    "rf_classifier_tuned = RandomForestClassifier(**best_params, random_state=2)"
   ]
  },
  {
   "cell_type": "code",
   "execution_count": 30,
   "id": "9a1bef14",
   "metadata": {},
   "outputs": [
    {
     "data": {
      "text/html": [
       "<style>#sk-container-id-2 {color: black;}#sk-container-id-2 pre{padding: 0;}#sk-container-id-2 div.sk-toggleable {background-color: white;}#sk-container-id-2 label.sk-toggleable__label {cursor: pointer;display: block;width: 100%;margin-bottom: 0;padding: 0.3em;box-sizing: border-box;text-align: center;}#sk-container-id-2 label.sk-toggleable__label-arrow:before {content: \"▸\";float: left;margin-right: 0.25em;color: #696969;}#sk-container-id-2 label.sk-toggleable__label-arrow:hover:before {color: black;}#sk-container-id-2 div.sk-estimator:hover label.sk-toggleable__label-arrow:before {color: black;}#sk-container-id-2 div.sk-toggleable__content {max-height: 0;max-width: 0;overflow: hidden;text-align: left;background-color: #f0f8ff;}#sk-container-id-2 div.sk-toggleable__content pre {margin: 0.2em;color: black;border-radius: 0.25em;background-color: #f0f8ff;}#sk-container-id-2 input.sk-toggleable__control:checked~div.sk-toggleable__content {max-height: 200px;max-width: 100%;overflow: auto;}#sk-container-id-2 input.sk-toggleable__control:checked~label.sk-toggleable__label-arrow:before {content: \"▾\";}#sk-container-id-2 div.sk-estimator input.sk-toggleable__control:checked~label.sk-toggleable__label {background-color: #d4ebff;}#sk-container-id-2 div.sk-label input.sk-toggleable__control:checked~label.sk-toggleable__label {background-color: #d4ebff;}#sk-container-id-2 input.sk-hidden--visually {border: 0;clip: rect(1px 1px 1px 1px);clip: rect(1px, 1px, 1px, 1px);height: 1px;margin: -1px;overflow: hidden;padding: 0;position: absolute;width: 1px;}#sk-container-id-2 div.sk-estimator {font-family: monospace;background-color: #f0f8ff;border: 1px dotted black;border-radius: 0.25em;box-sizing: border-box;margin-bottom: 0.5em;}#sk-container-id-2 div.sk-estimator:hover {background-color: #d4ebff;}#sk-container-id-2 div.sk-parallel-item::after {content: \"\";width: 100%;border-bottom: 1px solid gray;flex-grow: 1;}#sk-container-id-2 div.sk-label:hover label.sk-toggleable__label {background-color: #d4ebff;}#sk-container-id-2 div.sk-serial::before {content: \"\";position: absolute;border-left: 1px solid gray;box-sizing: border-box;top: 0;bottom: 0;left: 50%;z-index: 0;}#sk-container-id-2 div.sk-serial {display: flex;flex-direction: column;align-items: center;background-color: white;padding-right: 0.2em;padding-left: 0.2em;position: relative;}#sk-container-id-2 div.sk-item {position: relative;z-index: 1;}#sk-container-id-2 div.sk-parallel {display: flex;align-items: stretch;justify-content: center;background-color: white;position: relative;}#sk-container-id-2 div.sk-item::before, #sk-container-id-2 div.sk-parallel-item::before {content: \"\";position: absolute;border-left: 1px solid gray;box-sizing: border-box;top: 0;bottom: 0;left: 50%;z-index: -1;}#sk-container-id-2 div.sk-parallel-item {display: flex;flex-direction: column;z-index: 1;position: relative;background-color: white;}#sk-container-id-2 div.sk-parallel-item:first-child::after {align-self: flex-end;width: 50%;}#sk-container-id-2 div.sk-parallel-item:last-child::after {align-self: flex-start;width: 50%;}#sk-container-id-2 div.sk-parallel-item:only-child::after {width: 0;}#sk-container-id-2 div.sk-dashed-wrapped {border: 1px dashed gray;margin: 0 0.4em 0.5em 0.4em;box-sizing: border-box;padding-bottom: 0.4em;background-color: white;}#sk-container-id-2 div.sk-label label {font-family: monospace;font-weight: bold;display: inline-block;line-height: 1.2em;}#sk-container-id-2 div.sk-label-container {text-align: center;}#sk-container-id-2 div.sk-container {/* jupyter's `normalize.less` sets `[hidden] { display: none; }` but bootstrap.min.css set `[hidden] { display: none !important; }` so we also need the `!important` here to be able to override the default hidden behavior on the sphinx rendered scikit-learn.org. See: https://github.com/scikit-learn/scikit-learn/issues/21755 */display: inline-block !important;position: relative;}#sk-container-id-2 div.sk-text-repr-fallback {display: none;}</style><div id=\"sk-container-id-2\" class=\"sk-top-container\"><div class=\"sk-text-repr-fallback\"><pre>RandomForestClassifier(bootstrap=False, max_depth=30, n_estimators=150,\n",
       "                       random_state=2)</pre><b>In a Jupyter environment, please rerun this cell to show the HTML representation or trust the notebook. <br />On GitHub, the HTML representation is unable to render, please try loading this page with nbviewer.org.</b></div><div class=\"sk-container\" hidden><div class=\"sk-item\"><div class=\"sk-estimator sk-toggleable\"><input class=\"sk-toggleable__control sk-hidden--visually\" id=\"sk-estimator-id-2\" type=\"checkbox\" checked><label for=\"sk-estimator-id-2\" class=\"sk-toggleable__label sk-toggleable__label-arrow\">RandomForestClassifier</label><div class=\"sk-toggleable__content\"><pre>RandomForestClassifier(bootstrap=False, max_depth=30, n_estimators=150,\n",
       "                       random_state=2)</pre></div></div></div></div></div>"
      ],
      "text/plain": [
       "RandomForestClassifier(bootstrap=False, max_depth=30, n_estimators=150,\n",
       "                       random_state=2)"
      ]
     },
     "execution_count": 30,
     "metadata": {},
     "output_type": "execute_result"
    }
   ],
   "source": [
    "# Trains the Random Forest model with the best hyperparameters \n",
    "rf_classifier_tuned.fit(X_train, y_train)"
   ]
  },
  {
   "cell_type": "code",
   "execution_count": 31,
   "id": "401403fa",
   "metadata": {},
   "outputs": [],
   "source": [
    "# Predicts nutrigrade for the training data using the tuned Random Forest model.\n",
    "y_pred_train_tuned = rf_classifier_tuned.predict(X_train)\n",
    "\n",
    "# Predicts nutrigrade for the test data using the tuned Random Forest model.\n",
    "y_pred_test_tuned = rf_classifier_tuned.predict(X_test)"
   ]
  },
  {
   "cell_type": "code",
   "execution_count": 32,
   "id": "de9b5ab1",
   "metadata": {},
   "outputs": [],
   "source": [
    "# Calculate accuracies\n",
    "accuracy_train_tuned = accuracy_score(y_train, y_pred_train_tuned)\n",
    "accuracy_test_tuned = accuracy_score(y_test, y_pred_test_tuned)"
   ]
  },
  {
   "cell_type": "code",
   "execution_count": 33,
   "id": "3fbe664f",
   "metadata": {},
   "outputs": [
    {
     "name": "stdout",
     "output_type": "stream",
     "text": [
      "Tuned Random Forest Training Accuracy: 1.0\n",
      "Tuned Random Forest Test Accuracy: 0.9473684210526315\n"
     ]
    }
   ],
   "source": [
    "print(f\"Tuned Random Forest Training Accuracy: {accuracy_train_tuned}\")\n",
    "print(f\"Tuned Random Forest Test Accuracy: {accuracy_test_tuned}\")"
   ]
  },
  {
   "cell_type": "code",
   "execution_count": 34,
   "id": "01eb1b23",
   "metadata": {
    "scrolled": true
   },
   "outputs": [
    {
     "name": "stdout",
     "output_type": "stream",
     "text": [
      "Tuned Random Forest Classification Report:\n",
      "              precision    recall  f1-score   support\n",
      "\n",
      "           A       0.94      0.98      0.96        49\n",
      "           B       0.96      0.92      0.94        50\n",
      "           C       0.92      0.94      0.93        52\n",
      "           D       0.96      0.95      0.96        58\n",
      "\n",
      "    accuracy                           0.95       209\n",
      "   macro avg       0.95      0.95      0.95       209\n",
      "weighted avg       0.95      0.95      0.95       209\n",
      "\n"
     ]
    }
   ],
   "source": [
    "# Print classification report for the tuned model\n",
    "print(\"Tuned Random Forest Classification Report:\")\n",
    "print(classification_report(y_test, y_pred_test_tuned))"
   ]
  },
  {
   "cell_type": "markdown",
   "id": "e938662b",
   "metadata": {},
   "source": [
    "## Tuned model lowered test score accuracy\n",
    "\n",
    "##### It is shown in the tuned model above that after tuning, a better score was not achieved. \n",
    "\n",
    "##### Tuning sometimes leads to a slightly worse performance due to over-optimization on the training data, reducing the model's generalization capability on unseen data."
   ]
  },
  {
   "cell_type": "markdown",
   "id": "85c8af01",
   "metadata": {},
   "source": [
    "# 10(A). XGBoost"
   ]
  },
  {
   "cell_type": "code",
   "execution_count": 35,
   "id": "41977336",
   "metadata": {},
   "outputs": [],
   "source": [
    "# Encoding the target variable using LabelEncoder\n",
    "label_encoder = LabelEncoder()\n",
    "y_train_encoded = label_encoder.fit_transform(y_train)\n",
    "y_test_encoded = label_encoder.transform(y_test)"
   ]
  },
  {
   "cell_type": "code",
   "execution_count": 36,
   "id": "00351e0a",
   "metadata": {},
   "outputs": [],
   "source": [
    "# XGBoost classifier\n",
    "xgb_classifier = xgb.XGBClassifier(random_state=2, use_label_encoder=False)"
   ]
  },
  {
   "cell_type": "code",
   "execution_count": 37,
   "id": "98c46963",
   "metadata": {},
   "outputs": [
    {
     "data": {
      "text/html": [
       "<style>#sk-container-id-3 {color: black;}#sk-container-id-3 pre{padding: 0;}#sk-container-id-3 div.sk-toggleable {background-color: white;}#sk-container-id-3 label.sk-toggleable__label {cursor: pointer;display: block;width: 100%;margin-bottom: 0;padding: 0.3em;box-sizing: border-box;text-align: center;}#sk-container-id-3 label.sk-toggleable__label-arrow:before {content: \"▸\";float: left;margin-right: 0.25em;color: #696969;}#sk-container-id-3 label.sk-toggleable__label-arrow:hover:before {color: black;}#sk-container-id-3 div.sk-estimator:hover label.sk-toggleable__label-arrow:before {color: black;}#sk-container-id-3 div.sk-toggleable__content {max-height: 0;max-width: 0;overflow: hidden;text-align: left;background-color: #f0f8ff;}#sk-container-id-3 div.sk-toggleable__content pre {margin: 0.2em;color: black;border-radius: 0.25em;background-color: #f0f8ff;}#sk-container-id-3 input.sk-toggleable__control:checked~div.sk-toggleable__content {max-height: 200px;max-width: 100%;overflow: auto;}#sk-container-id-3 input.sk-toggleable__control:checked~label.sk-toggleable__label-arrow:before {content: \"▾\";}#sk-container-id-3 div.sk-estimator input.sk-toggleable__control:checked~label.sk-toggleable__label {background-color: #d4ebff;}#sk-container-id-3 div.sk-label input.sk-toggleable__control:checked~label.sk-toggleable__label {background-color: #d4ebff;}#sk-container-id-3 input.sk-hidden--visually {border: 0;clip: rect(1px 1px 1px 1px);clip: rect(1px, 1px, 1px, 1px);height: 1px;margin: -1px;overflow: hidden;padding: 0;position: absolute;width: 1px;}#sk-container-id-3 div.sk-estimator {font-family: monospace;background-color: #f0f8ff;border: 1px dotted black;border-radius: 0.25em;box-sizing: border-box;margin-bottom: 0.5em;}#sk-container-id-3 div.sk-estimator:hover {background-color: #d4ebff;}#sk-container-id-3 div.sk-parallel-item::after {content: \"\";width: 100%;border-bottom: 1px solid gray;flex-grow: 1;}#sk-container-id-3 div.sk-label:hover label.sk-toggleable__label {background-color: #d4ebff;}#sk-container-id-3 div.sk-serial::before {content: \"\";position: absolute;border-left: 1px solid gray;box-sizing: border-box;top: 0;bottom: 0;left: 50%;z-index: 0;}#sk-container-id-3 div.sk-serial {display: flex;flex-direction: column;align-items: center;background-color: white;padding-right: 0.2em;padding-left: 0.2em;position: relative;}#sk-container-id-3 div.sk-item {position: relative;z-index: 1;}#sk-container-id-3 div.sk-parallel {display: flex;align-items: stretch;justify-content: center;background-color: white;position: relative;}#sk-container-id-3 div.sk-item::before, #sk-container-id-3 div.sk-parallel-item::before {content: \"\";position: absolute;border-left: 1px solid gray;box-sizing: border-box;top: 0;bottom: 0;left: 50%;z-index: -1;}#sk-container-id-3 div.sk-parallel-item {display: flex;flex-direction: column;z-index: 1;position: relative;background-color: white;}#sk-container-id-3 div.sk-parallel-item:first-child::after {align-self: flex-end;width: 50%;}#sk-container-id-3 div.sk-parallel-item:last-child::after {align-self: flex-start;width: 50%;}#sk-container-id-3 div.sk-parallel-item:only-child::after {width: 0;}#sk-container-id-3 div.sk-dashed-wrapped {border: 1px dashed gray;margin: 0 0.4em 0.5em 0.4em;box-sizing: border-box;padding-bottom: 0.4em;background-color: white;}#sk-container-id-3 div.sk-label label {font-family: monospace;font-weight: bold;display: inline-block;line-height: 1.2em;}#sk-container-id-3 div.sk-label-container {text-align: center;}#sk-container-id-3 div.sk-container {/* jupyter's `normalize.less` sets `[hidden] { display: none; }` but bootstrap.min.css set `[hidden] { display: none !important; }` so we also need the `!important` here to be able to override the default hidden behavior on the sphinx rendered scikit-learn.org. See: https://github.com/scikit-learn/scikit-learn/issues/21755 */display: inline-block !important;position: relative;}#sk-container-id-3 div.sk-text-repr-fallback {display: none;}</style><div id=\"sk-container-id-3\" class=\"sk-top-container\"><div class=\"sk-text-repr-fallback\"><pre>XGBClassifier(base_score=None, booster=None, callbacks=None,\n",
       "              colsample_bylevel=None, colsample_bynode=None,\n",
       "              colsample_bytree=None, device=None, early_stopping_rounds=None,\n",
       "              enable_categorical=False, eval_metric=None, feature_types=None,\n",
       "              gamma=None, grow_policy=None, importance_type=None,\n",
       "              interaction_constraints=None, learning_rate=None, max_bin=None,\n",
       "              max_cat_threshold=None, max_cat_to_onehot=None,\n",
       "              max_delta_step=None, max_depth=None, max_leaves=None,\n",
       "              min_child_weight=None, missing=nan, monotone_constraints=None,\n",
       "              multi_strategy=None, n_estimators=None, n_jobs=None,\n",
       "              num_parallel_tree=None, objective=&#x27;multi:softprob&#x27;, ...)</pre><b>In a Jupyter environment, please rerun this cell to show the HTML representation or trust the notebook. <br />On GitHub, the HTML representation is unable to render, please try loading this page with nbviewer.org.</b></div><div class=\"sk-container\" hidden><div class=\"sk-item\"><div class=\"sk-estimator sk-toggleable\"><input class=\"sk-toggleable__control sk-hidden--visually\" id=\"sk-estimator-id-3\" type=\"checkbox\" checked><label for=\"sk-estimator-id-3\" class=\"sk-toggleable__label sk-toggleable__label-arrow\">XGBClassifier</label><div class=\"sk-toggleable__content\"><pre>XGBClassifier(base_score=None, booster=None, callbacks=None,\n",
       "              colsample_bylevel=None, colsample_bynode=None,\n",
       "              colsample_bytree=None, device=None, early_stopping_rounds=None,\n",
       "              enable_categorical=False, eval_metric=None, feature_types=None,\n",
       "              gamma=None, grow_policy=None, importance_type=None,\n",
       "              interaction_constraints=None, learning_rate=None, max_bin=None,\n",
       "              max_cat_threshold=None, max_cat_to_onehot=None,\n",
       "              max_delta_step=None, max_depth=None, max_leaves=None,\n",
       "              min_child_weight=None, missing=nan, monotone_constraints=None,\n",
       "              multi_strategy=None, n_estimators=None, n_jobs=None,\n",
       "              num_parallel_tree=None, objective=&#x27;multi:softprob&#x27;, ...)</pre></div></div></div></div></div>"
      ],
      "text/plain": [
       "XGBClassifier(base_score=None, booster=None, callbacks=None,\n",
       "              colsample_bylevel=None, colsample_bynode=None,\n",
       "              colsample_bytree=None, device=None, early_stopping_rounds=None,\n",
       "              enable_categorical=False, eval_metric=None, feature_types=None,\n",
       "              gamma=None, grow_policy=None, importance_type=None,\n",
       "              interaction_constraints=None, learning_rate=None, max_bin=None,\n",
       "              max_cat_threshold=None, max_cat_to_onehot=None,\n",
       "              max_delta_step=None, max_depth=None, max_leaves=None,\n",
       "              min_child_weight=None, missing=nan, monotone_constraints=None,\n",
       "              multi_strategy=None, n_estimators=None, n_jobs=None,\n",
       "              num_parallel_tree=None, objective='multi:softprob', ...)"
      ]
     },
     "execution_count": 37,
     "metadata": {},
     "output_type": "execute_result"
    }
   ],
   "source": [
    "# Train the XGBoost classifier with encoded target variable\n",
    "xgb_classifier.fit(X_train, y_train_encoded, eval_metric='mlogloss')"
   ]
  },
  {
   "cell_type": "code",
   "execution_count": 38,
   "id": "fcf8441f",
   "metadata": {},
   "outputs": [],
   "source": [
    "# Predict on the test data\n",
    "y_pred_xgb = xgb_classifier.predict(X_test)\n",
    "y_pred_train_xgb = xgb_classifier.predict(X_train)"
   ]
  },
  {
   "cell_type": "code",
   "execution_count": 39,
   "id": "2991f8e9",
   "metadata": {},
   "outputs": [],
   "source": [
    "# Calculate training and test accuracies\n",
    "accuracy_train_xgb = accuracy_score(y_train_encoded, y_pred_train_xgb)\n",
    "accuracy_test_xgb = accuracy_score(y_test_encoded, y_pred_xgb)"
   ]
  },
  {
   "cell_type": "code",
   "execution_count": 40,
   "id": "3e43c767",
   "metadata": {
    "scrolled": true
   },
   "outputs": [
    {
     "data": {
      "text/plain": [
       "(1.0, 0.9904306220095693)"
      ]
     },
     "execution_count": 40,
     "metadata": {},
     "output_type": "execute_result"
    }
   ],
   "source": [
    "# Check accuracy scores for train and test\n",
    "accuracy_train_xgb, accuracy_test_xgb"
   ]
  },
  {
   "cell_type": "markdown",
   "id": "15db23f3",
   "metadata": {},
   "source": [
    "# 10(B). XGBoost tuning using GridSearchCV\n",
    "\n",
    "###### Even though we had a test score of .99, we'll still tune the parameters using the machine to find us the best parameters for this model. This is done so because we want to see whether if better results can be acheived."
   ]
  },
  {
   "cell_type": "code",
   "execution_count": 41,
   "id": "971a76d7",
   "metadata": {},
   "outputs": [],
   "source": [
    "param_grid_xgb = {\n",
    "    'learning_rate': [0.01, 0.05, 0.1, 0.3],\n",
    "    'max_depth': [3, 4, 5, 6, 7],\n",
    "    'n_estimators': [50, 100, 150, 200],\n",
    "    'subsample': [0.7, 0.8, 0.9, 1],\n",
    "    'colsample_bytree': [0.7, 0.8, 0.9, 1],\n",
    "    'gamma': [0, 0.1, 0.2, 0.3],\n",
    "    'objective': ['multi:softprob']\n",
    "}\n",
    "\n",
    "grid_search_xgb = GridSearchCV(xgb_classifier, param_grid_xgb, cv=3, scoring='accuracy', n_jobs=-1, verbose=2)"
   ]
  },
  {
   "cell_type": "code",
   "execution_count": 42,
   "id": "1a83b9e8",
   "metadata": {},
   "outputs": [
    {
     "name": "stdout",
     "output_type": "stream",
     "text": [
      "Fitting 3 folds for each of 5120 candidates, totalling 15360 fits\n"
     ]
    },
    {
     "data": {
      "text/html": [
       "<style>#sk-container-id-4 {color: black;}#sk-container-id-4 pre{padding: 0;}#sk-container-id-4 div.sk-toggleable {background-color: white;}#sk-container-id-4 label.sk-toggleable__label {cursor: pointer;display: block;width: 100%;margin-bottom: 0;padding: 0.3em;box-sizing: border-box;text-align: center;}#sk-container-id-4 label.sk-toggleable__label-arrow:before {content: \"▸\";float: left;margin-right: 0.25em;color: #696969;}#sk-container-id-4 label.sk-toggleable__label-arrow:hover:before {color: black;}#sk-container-id-4 div.sk-estimator:hover label.sk-toggleable__label-arrow:before {color: black;}#sk-container-id-4 div.sk-toggleable__content {max-height: 0;max-width: 0;overflow: hidden;text-align: left;background-color: #f0f8ff;}#sk-container-id-4 div.sk-toggleable__content pre {margin: 0.2em;color: black;border-radius: 0.25em;background-color: #f0f8ff;}#sk-container-id-4 input.sk-toggleable__control:checked~div.sk-toggleable__content {max-height: 200px;max-width: 100%;overflow: auto;}#sk-container-id-4 input.sk-toggleable__control:checked~label.sk-toggleable__label-arrow:before {content: \"▾\";}#sk-container-id-4 div.sk-estimator input.sk-toggleable__control:checked~label.sk-toggleable__label {background-color: #d4ebff;}#sk-container-id-4 div.sk-label input.sk-toggleable__control:checked~label.sk-toggleable__label {background-color: #d4ebff;}#sk-container-id-4 input.sk-hidden--visually {border: 0;clip: rect(1px 1px 1px 1px);clip: rect(1px, 1px, 1px, 1px);height: 1px;margin: -1px;overflow: hidden;padding: 0;position: absolute;width: 1px;}#sk-container-id-4 div.sk-estimator {font-family: monospace;background-color: #f0f8ff;border: 1px dotted black;border-radius: 0.25em;box-sizing: border-box;margin-bottom: 0.5em;}#sk-container-id-4 div.sk-estimator:hover {background-color: #d4ebff;}#sk-container-id-4 div.sk-parallel-item::after {content: \"\";width: 100%;border-bottom: 1px solid gray;flex-grow: 1;}#sk-container-id-4 div.sk-label:hover label.sk-toggleable__label {background-color: #d4ebff;}#sk-container-id-4 div.sk-serial::before {content: \"\";position: absolute;border-left: 1px solid gray;box-sizing: border-box;top: 0;bottom: 0;left: 50%;z-index: 0;}#sk-container-id-4 div.sk-serial {display: flex;flex-direction: column;align-items: center;background-color: white;padding-right: 0.2em;padding-left: 0.2em;position: relative;}#sk-container-id-4 div.sk-item {position: relative;z-index: 1;}#sk-container-id-4 div.sk-parallel {display: flex;align-items: stretch;justify-content: center;background-color: white;position: relative;}#sk-container-id-4 div.sk-item::before, #sk-container-id-4 div.sk-parallel-item::before {content: \"\";position: absolute;border-left: 1px solid gray;box-sizing: border-box;top: 0;bottom: 0;left: 50%;z-index: -1;}#sk-container-id-4 div.sk-parallel-item {display: flex;flex-direction: column;z-index: 1;position: relative;background-color: white;}#sk-container-id-4 div.sk-parallel-item:first-child::after {align-self: flex-end;width: 50%;}#sk-container-id-4 div.sk-parallel-item:last-child::after {align-self: flex-start;width: 50%;}#sk-container-id-4 div.sk-parallel-item:only-child::after {width: 0;}#sk-container-id-4 div.sk-dashed-wrapped {border: 1px dashed gray;margin: 0 0.4em 0.5em 0.4em;box-sizing: border-box;padding-bottom: 0.4em;background-color: white;}#sk-container-id-4 div.sk-label label {font-family: monospace;font-weight: bold;display: inline-block;line-height: 1.2em;}#sk-container-id-4 div.sk-label-container {text-align: center;}#sk-container-id-4 div.sk-container {/* jupyter's `normalize.less` sets `[hidden] { display: none; }` but bootstrap.min.css set `[hidden] { display: none !important; }` so we also need the `!important` here to be able to override the default hidden behavior on the sphinx rendered scikit-learn.org. See: https://github.com/scikit-learn/scikit-learn/issues/21755 */display: inline-block !important;position: relative;}#sk-container-id-4 div.sk-text-repr-fallback {display: none;}</style><div id=\"sk-container-id-4\" class=\"sk-top-container\"><div class=\"sk-text-repr-fallback\"><pre>GridSearchCV(cv=3,\n",
       "             estimator=XGBClassifier(base_score=None, booster=None,\n",
       "                                     callbacks=None, colsample_bylevel=None,\n",
       "                                     colsample_bynode=None,\n",
       "                                     colsample_bytree=None, device=None,\n",
       "                                     early_stopping_rounds=None,\n",
       "                                     enable_categorical=False, eval_metric=None,\n",
       "                                     feature_types=None, gamma=None,\n",
       "                                     grow_policy=None, importance_type=None,\n",
       "                                     interaction_constraints=None,\n",
       "                                     learning_rate=None,...\n",
       "                                     multi_strategy=None, n_estimators=None,\n",
       "                                     n_jobs=None, num_parallel_tree=None,\n",
       "                                     objective=&#x27;multi:softprob&#x27;, ...),\n",
       "             n_jobs=-1,\n",
       "             param_grid={&#x27;colsample_bytree&#x27;: [0.7, 0.8, 0.9, 1],\n",
       "                         &#x27;gamma&#x27;: [0, 0.1, 0.2, 0.3],\n",
       "                         &#x27;learning_rate&#x27;: [0.01, 0.05, 0.1, 0.3],\n",
       "                         &#x27;max_depth&#x27;: [3, 4, 5, 6, 7],\n",
       "                         &#x27;n_estimators&#x27;: [50, 100, 150, 200],\n",
       "                         &#x27;objective&#x27;: [&#x27;multi:softprob&#x27;],\n",
       "                         &#x27;subsample&#x27;: [0.7, 0.8, 0.9, 1]},\n",
       "             scoring=&#x27;accuracy&#x27;, verbose=2)</pre><b>In a Jupyter environment, please rerun this cell to show the HTML representation or trust the notebook. <br />On GitHub, the HTML representation is unable to render, please try loading this page with nbviewer.org.</b></div><div class=\"sk-container\" hidden><div class=\"sk-item sk-dashed-wrapped\"><div class=\"sk-label-container\"><div class=\"sk-label sk-toggleable\"><input class=\"sk-toggleable__control sk-hidden--visually\" id=\"sk-estimator-id-4\" type=\"checkbox\" ><label for=\"sk-estimator-id-4\" class=\"sk-toggleable__label sk-toggleable__label-arrow\">GridSearchCV</label><div class=\"sk-toggleable__content\"><pre>GridSearchCV(cv=3,\n",
       "             estimator=XGBClassifier(base_score=None, booster=None,\n",
       "                                     callbacks=None, colsample_bylevel=None,\n",
       "                                     colsample_bynode=None,\n",
       "                                     colsample_bytree=None, device=None,\n",
       "                                     early_stopping_rounds=None,\n",
       "                                     enable_categorical=False, eval_metric=None,\n",
       "                                     feature_types=None, gamma=None,\n",
       "                                     grow_policy=None, importance_type=None,\n",
       "                                     interaction_constraints=None,\n",
       "                                     learning_rate=None,...\n",
       "                                     multi_strategy=None, n_estimators=None,\n",
       "                                     n_jobs=None, num_parallel_tree=None,\n",
       "                                     objective=&#x27;multi:softprob&#x27;, ...),\n",
       "             n_jobs=-1,\n",
       "             param_grid={&#x27;colsample_bytree&#x27;: [0.7, 0.8, 0.9, 1],\n",
       "                         &#x27;gamma&#x27;: [0, 0.1, 0.2, 0.3],\n",
       "                         &#x27;learning_rate&#x27;: [0.01, 0.05, 0.1, 0.3],\n",
       "                         &#x27;max_depth&#x27;: [3, 4, 5, 6, 7],\n",
       "                         &#x27;n_estimators&#x27;: [50, 100, 150, 200],\n",
       "                         &#x27;objective&#x27;: [&#x27;multi:softprob&#x27;],\n",
       "                         &#x27;subsample&#x27;: [0.7, 0.8, 0.9, 1]},\n",
       "             scoring=&#x27;accuracy&#x27;, verbose=2)</pre></div></div></div><div class=\"sk-parallel\"><div class=\"sk-parallel-item\"><div class=\"sk-item\"><div class=\"sk-label-container\"><div class=\"sk-label sk-toggleable\"><input class=\"sk-toggleable__control sk-hidden--visually\" id=\"sk-estimator-id-5\" type=\"checkbox\" ><label for=\"sk-estimator-id-5\" class=\"sk-toggleable__label sk-toggleable__label-arrow\">estimator: XGBClassifier</label><div class=\"sk-toggleable__content\"><pre>XGBClassifier(base_score=None, booster=None, callbacks=None,\n",
       "              colsample_bylevel=None, colsample_bynode=None,\n",
       "              colsample_bytree=None, device=None, early_stopping_rounds=None,\n",
       "              enable_categorical=False, eval_metric=None, feature_types=None,\n",
       "              gamma=None, grow_policy=None, importance_type=None,\n",
       "              interaction_constraints=None, learning_rate=None, max_bin=None,\n",
       "              max_cat_threshold=None, max_cat_to_onehot=None,\n",
       "              max_delta_step=None, max_depth=None, max_leaves=None,\n",
       "              min_child_weight=None, missing=nan, monotone_constraints=None,\n",
       "              multi_strategy=None, n_estimators=None, n_jobs=None,\n",
       "              num_parallel_tree=None, objective=&#x27;multi:softprob&#x27;, ...)</pre></div></div></div><div class=\"sk-serial\"><div class=\"sk-item\"><div class=\"sk-estimator sk-toggleable\"><input class=\"sk-toggleable__control sk-hidden--visually\" id=\"sk-estimator-id-6\" type=\"checkbox\" ><label for=\"sk-estimator-id-6\" class=\"sk-toggleable__label sk-toggleable__label-arrow\">XGBClassifier</label><div class=\"sk-toggleable__content\"><pre>XGBClassifier(base_score=None, booster=None, callbacks=None,\n",
       "              colsample_bylevel=None, colsample_bynode=None,\n",
       "              colsample_bytree=None, device=None, early_stopping_rounds=None,\n",
       "              enable_categorical=False, eval_metric=None, feature_types=None,\n",
       "              gamma=None, grow_policy=None, importance_type=None,\n",
       "              interaction_constraints=None, learning_rate=None, max_bin=None,\n",
       "              max_cat_threshold=None, max_cat_to_onehot=None,\n",
       "              max_delta_step=None, max_depth=None, max_leaves=None,\n",
       "              min_child_weight=None, missing=nan, monotone_constraints=None,\n",
       "              multi_strategy=None, n_estimators=None, n_jobs=None,\n",
       "              num_parallel_tree=None, objective=&#x27;multi:softprob&#x27;, ...)</pre></div></div></div></div></div></div></div></div></div></div>"
      ],
      "text/plain": [
       "GridSearchCV(cv=3,\n",
       "             estimator=XGBClassifier(base_score=None, booster=None,\n",
       "                                     callbacks=None, colsample_bylevel=None,\n",
       "                                     colsample_bynode=None,\n",
       "                                     colsample_bytree=None, device=None,\n",
       "                                     early_stopping_rounds=None,\n",
       "                                     enable_categorical=False, eval_metric=None,\n",
       "                                     feature_types=None, gamma=None,\n",
       "                                     grow_policy=None, importance_type=None,\n",
       "                                     interaction_constraints=None,\n",
       "                                     learning_rate=None,...\n",
       "                                     multi_strategy=None, n_estimators=None,\n",
       "                                     n_jobs=None, num_parallel_tree=None,\n",
       "                                     objective='multi:softprob', ...),\n",
       "             n_jobs=-1,\n",
       "             param_grid={'colsample_bytree': [0.7, 0.8, 0.9, 1],\n",
       "                         'gamma': [0, 0.1, 0.2, 0.3],\n",
       "                         'learning_rate': [0.01, 0.05, 0.1, 0.3],\n",
       "                         'max_depth': [3, 4, 5, 6, 7],\n",
       "                         'n_estimators': [50, 100, 150, 200],\n",
       "                         'objective': ['multi:softprob'],\n",
       "                         'subsample': [0.7, 0.8, 0.9, 1]},\n",
       "             scoring='accuracy', verbose=2)"
      ]
     },
     "execution_count": 42,
     "metadata": {},
     "output_type": "execute_result"
    }
   ],
   "source": [
    "grid_search_xgb.fit(X_train, y_train_encoded)"
   ]
  },
  {
   "cell_type": "code",
   "execution_count": 43,
   "id": "b3a6d819",
   "metadata": {},
   "outputs": [],
   "source": [
    "best_params_xgb = grid_search_xgb.best_params_"
   ]
  },
  {
   "cell_type": "code",
   "execution_count": 44,
   "id": "a1e2675a",
   "metadata": {},
   "outputs": [
    {
     "name": "stdout",
     "output_type": "stream",
     "text": [
      "Best Hyperparameters for XGBoost: {'colsample_bytree': 0.7, 'gamma': 0, 'learning_rate': 0.1, 'max_depth': 3, 'n_estimators': 100, 'objective': 'multi:softprob', 'subsample': 0.8}\n"
     ]
    }
   ],
   "source": [
    "print(f\"Best Hyperparameters for XGBoost: {best_params_xgb}\")"
   ]
  },
  {
   "cell_type": "markdown",
   "id": "448a3da5",
   "metadata": {},
   "source": [
    "### The cell above will take approximately 30mins to run as it is running approximately 15k iterations\n",
    "\n",
    "#### Best Hyperparameters for XGBoost: {'colsample_bytree': 0.7, 'gamma': 0, 'learning_rate': 0.1, 'max_depth': 3, 'n_estimators': 100, 'objective': 'multi:softprob', 'subsample': 0.8}"
   ]
  },
  {
   "cell_type": "markdown",
   "id": "5a669a5e",
   "metadata": {},
   "source": [
    "## In the cell below, we will extract the best parameters we got from the previous cells and inject it into the tuned XGBoost model"
   ]
  },
  {
   "cell_type": "code",
   "execution_count": 45,
   "id": "ac16d4ec",
   "metadata": {},
   "outputs": [
    {
     "data": {
      "text/html": [
       "<style>#sk-container-id-5 {color: black;}#sk-container-id-5 pre{padding: 0;}#sk-container-id-5 div.sk-toggleable {background-color: white;}#sk-container-id-5 label.sk-toggleable__label {cursor: pointer;display: block;width: 100%;margin-bottom: 0;padding: 0.3em;box-sizing: border-box;text-align: center;}#sk-container-id-5 label.sk-toggleable__label-arrow:before {content: \"▸\";float: left;margin-right: 0.25em;color: #696969;}#sk-container-id-5 label.sk-toggleable__label-arrow:hover:before {color: black;}#sk-container-id-5 div.sk-estimator:hover label.sk-toggleable__label-arrow:before {color: black;}#sk-container-id-5 div.sk-toggleable__content {max-height: 0;max-width: 0;overflow: hidden;text-align: left;background-color: #f0f8ff;}#sk-container-id-5 div.sk-toggleable__content pre {margin: 0.2em;color: black;border-radius: 0.25em;background-color: #f0f8ff;}#sk-container-id-5 input.sk-toggleable__control:checked~div.sk-toggleable__content {max-height: 200px;max-width: 100%;overflow: auto;}#sk-container-id-5 input.sk-toggleable__control:checked~label.sk-toggleable__label-arrow:before {content: \"▾\";}#sk-container-id-5 div.sk-estimator input.sk-toggleable__control:checked~label.sk-toggleable__label {background-color: #d4ebff;}#sk-container-id-5 div.sk-label input.sk-toggleable__control:checked~label.sk-toggleable__label {background-color: #d4ebff;}#sk-container-id-5 input.sk-hidden--visually {border: 0;clip: rect(1px 1px 1px 1px);clip: rect(1px, 1px, 1px, 1px);height: 1px;margin: -1px;overflow: hidden;padding: 0;position: absolute;width: 1px;}#sk-container-id-5 div.sk-estimator {font-family: monospace;background-color: #f0f8ff;border: 1px dotted black;border-radius: 0.25em;box-sizing: border-box;margin-bottom: 0.5em;}#sk-container-id-5 div.sk-estimator:hover {background-color: #d4ebff;}#sk-container-id-5 div.sk-parallel-item::after {content: \"\";width: 100%;border-bottom: 1px solid gray;flex-grow: 1;}#sk-container-id-5 div.sk-label:hover label.sk-toggleable__label {background-color: #d4ebff;}#sk-container-id-5 div.sk-serial::before {content: \"\";position: absolute;border-left: 1px solid gray;box-sizing: border-box;top: 0;bottom: 0;left: 50%;z-index: 0;}#sk-container-id-5 div.sk-serial {display: flex;flex-direction: column;align-items: center;background-color: white;padding-right: 0.2em;padding-left: 0.2em;position: relative;}#sk-container-id-5 div.sk-item {position: relative;z-index: 1;}#sk-container-id-5 div.sk-parallel {display: flex;align-items: stretch;justify-content: center;background-color: white;position: relative;}#sk-container-id-5 div.sk-item::before, #sk-container-id-5 div.sk-parallel-item::before {content: \"\";position: absolute;border-left: 1px solid gray;box-sizing: border-box;top: 0;bottom: 0;left: 50%;z-index: -1;}#sk-container-id-5 div.sk-parallel-item {display: flex;flex-direction: column;z-index: 1;position: relative;background-color: white;}#sk-container-id-5 div.sk-parallel-item:first-child::after {align-self: flex-end;width: 50%;}#sk-container-id-5 div.sk-parallel-item:last-child::after {align-self: flex-start;width: 50%;}#sk-container-id-5 div.sk-parallel-item:only-child::after {width: 0;}#sk-container-id-5 div.sk-dashed-wrapped {border: 1px dashed gray;margin: 0 0.4em 0.5em 0.4em;box-sizing: border-box;padding-bottom: 0.4em;background-color: white;}#sk-container-id-5 div.sk-label label {font-family: monospace;font-weight: bold;display: inline-block;line-height: 1.2em;}#sk-container-id-5 div.sk-label-container {text-align: center;}#sk-container-id-5 div.sk-container {/* jupyter's `normalize.less` sets `[hidden] { display: none; }` but bootstrap.min.css set `[hidden] { display: none !important; }` so we also need the `!important` here to be able to override the default hidden behavior on the sphinx rendered scikit-learn.org. See: https://github.com/scikit-learn/scikit-learn/issues/21755 */display: inline-block !important;position: relative;}#sk-container-id-5 div.sk-text-repr-fallback {display: none;}</style><div id=\"sk-container-id-5\" class=\"sk-top-container\"><div class=\"sk-text-repr-fallback\"><pre>XGBClassifier(base_score=None, booster=None, callbacks=None,\n",
       "              colsample_bylevel=None, colsample_bynode=None,\n",
       "              colsample_bytree=0.7, device=None, early_stopping_rounds=None,\n",
       "              enable_categorical=False, eval_metric=None, feature_types=None,\n",
       "              gamma=0, grow_policy=None, importance_type=None,\n",
       "              interaction_constraints=None, learning_rate=0.1, max_bin=None,\n",
       "              max_cat_threshold=None, max_cat_to_onehot=None,\n",
       "              max_delta_step=None, max_depth=3, max_leaves=None,\n",
       "              min_child_weight=None, missing=nan, monotone_constraints=None,\n",
       "              multi_strategy=None, n_estimators=100, n_jobs=None,\n",
       "              num_parallel_tree=None, objective=&#x27;multi:softprob&#x27;, ...)</pre><b>In a Jupyter environment, please rerun this cell to show the HTML representation or trust the notebook. <br />On GitHub, the HTML representation is unable to render, please try loading this page with nbviewer.org.</b></div><div class=\"sk-container\" hidden><div class=\"sk-item\"><div class=\"sk-estimator sk-toggleable\"><input class=\"sk-toggleable__control sk-hidden--visually\" id=\"sk-estimator-id-7\" type=\"checkbox\" checked><label for=\"sk-estimator-id-7\" class=\"sk-toggleable__label sk-toggleable__label-arrow\">XGBClassifier</label><div class=\"sk-toggleable__content\"><pre>XGBClassifier(base_score=None, booster=None, callbacks=None,\n",
       "              colsample_bylevel=None, colsample_bynode=None,\n",
       "              colsample_bytree=0.7, device=None, early_stopping_rounds=None,\n",
       "              enable_categorical=False, eval_metric=None, feature_types=None,\n",
       "              gamma=0, grow_policy=None, importance_type=None,\n",
       "              interaction_constraints=None, learning_rate=0.1, max_bin=None,\n",
       "              max_cat_threshold=None, max_cat_to_onehot=None,\n",
       "              max_delta_step=None, max_depth=3, max_leaves=None,\n",
       "              min_child_weight=None, missing=nan, monotone_constraints=None,\n",
       "              multi_strategy=None, n_estimators=100, n_jobs=None,\n",
       "              num_parallel_tree=None, objective=&#x27;multi:softprob&#x27;, ...)</pre></div></div></div></div></div>"
      ],
      "text/plain": [
       "XGBClassifier(base_score=None, booster=None, callbacks=None,\n",
       "              colsample_bylevel=None, colsample_bynode=None,\n",
       "              colsample_bytree=0.7, device=None, early_stopping_rounds=None,\n",
       "              enable_categorical=False, eval_metric=None, feature_types=None,\n",
       "              gamma=0, grow_policy=None, importance_type=None,\n",
       "              interaction_constraints=None, learning_rate=0.1, max_bin=None,\n",
       "              max_cat_threshold=None, max_cat_to_onehot=None,\n",
       "              max_delta_step=None, max_depth=3, max_leaves=None,\n",
       "              min_child_weight=None, missing=nan, monotone_constraints=None,\n",
       "              multi_strategy=None, n_estimators=100, n_jobs=None,\n",
       "              num_parallel_tree=None, objective='multi:softprob', ...)"
      ]
     },
     "execution_count": 45,
     "metadata": {},
     "output_type": "execute_result"
    }
   ],
   "source": [
    "# Extracting best parameters from grid search\n",
    "best_params_xgb = grid_search_xgb.best_params_\n",
    "\n",
    "# XGBoost classifier with the best parameters\n",
    "best_xgb_classifier = xgb.XGBClassifier(**best_params_xgb, random_state=2, use_label_encoder=False)\n",
    "\n",
    "# Train the classifier with the best parameters on the training data\n",
    "best_xgb_classifier.fit(X_train, y_train_encoded, eval_metric='mlogloss')\n"
   ]
  },
  {
   "cell_type": "code",
   "execution_count": 46,
   "id": "18eb4c61",
   "metadata": {},
   "outputs": [],
   "source": [
    "# Predict on the training and test data using the best model\n",
    "y_pred_train_best_xgb = best_xgb_classifier.predict(X_train)\n",
    "y_pred_test_best_xgb = best_xgb_classifier.predict(X_test)"
   ]
  },
  {
   "cell_type": "code",
   "execution_count": 47,
   "id": "30dc6d68",
   "metadata": {},
   "outputs": [],
   "source": [
    "# Calculate training and test accuracies\n",
    "accuracy_train_best_xgb = accuracy_score(y_train_encoded, y_pred_train_best_xgb)\n",
    "accuracy_test_best_xgb = accuracy_score(y_test_encoded, y_pred_test_best_xgb)"
   ]
  },
  {
   "cell_type": "code",
   "execution_count": 48,
   "id": "ef508a55",
   "metadata": {},
   "outputs": [
    {
     "name": "stdout",
     "output_type": "stream",
     "text": [
      "Best XGBoost Training Accuracy: 1.0\n",
      "Best XGBoost Test Accuracy: 0.9904306220095693\n"
     ]
    }
   ],
   "source": [
    "print(f\"Best XGBoost Training Accuracy: {accuracy_train_best_xgb}\")\n",
    "print(f\"Best XGBoost Test Accuracy: {accuracy_test_best_xgb}\")"
   ]
  },
  {
   "cell_type": "code",
   "execution_count": 49,
   "id": "0a82aeec",
   "metadata": {
    "scrolled": true
   },
   "outputs": [
    {
     "name": "stdout",
     "output_type": "stream",
     "text": [
      "Best XGBoost Classification Report:\n",
      "              precision    recall  f1-score   support\n",
      "\n",
      "           0       1.00      1.00      1.00        49\n",
      "           1       0.96      1.00      0.98        50\n",
      "           2       1.00      0.96      0.98        52\n",
      "           3       1.00      1.00      1.00        58\n",
      "\n",
      "    accuracy                           0.99       209\n",
      "   macro avg       0.99      0.99      0.99       209\n",
      "weighted avg       0.99      0.99      0.99       209\n",
      "\n"
     ]
    }
   ],
   "source": [
    "# Print classification report for the test data\n",
    "print(\"Best XGBoost Classification Report:\")\n",
    "print(classification_report(y_test_encoded, y_pred_test_best_xgb))"
   ]
  },
  {
   "cell_type": "markdown",
   "id": "71d778cb",
   "metadata": {},
   "source": [
    "## Extracting best parameters\n",
    "\n",
    "###### We will manually tune the hyper parameters given by GridSearchCV. This is done so that the deployment model will run smoothly without having to rerun the 15,000 iterations"
   ]
  },
  {
   "cell_type": "code",
   "execution_count": 50,
   "id": "db59eb10",
   "metadata": {},
   "outputs": [],
   "source": [
    "#XGBoost best parameters\n",
    "best_params_xgb = {\n",
    "    'colsample_bytree': 0.7,\n",
    "    'gamma': 0,\n",
    "    'learning_rate': 0.1,\n",
    "    'max_depth': 3,\n",
    "    'n_estimators': 100,\n",
    "    'objective': 'multi:softprob',\n",
    "    'subsample': 0.8\n",
    "}"
   ]
  },
  {
   "cell_type": "code",
   "execution_count": 51,
   "id": "46e2be6f",
   "metadata": {},
   "outputs": [],
   "source": [
    "# Initializing the XGBoost classifier with the optimal parameters and additional configurations.\n",
    "best_xgb_classifier = xgb.XGBClassifier(**best_params_xgb, random_state=2, use_label_encoder=False)"
   ]
  },
  {
   "cell_type": "code",
   "execution_count": 52,
   "id": "081fae18",
   "metadata": {
    "scrolled": true
   },
   "outputs": [
    {
     "data": {
      "text/html": [
       "<style>#sk-container-id-6 {color: black;}#sk-container-id-6 pre{padding: 0;}#sk-container-id-6 div.sk-toggleable {background-color: white;}#sk-container-id-6 label.sk-toggleable__label {cursor: pointer;display: block;width: 100%;margin-bottom: 0;padding: 0.3em;box-sizing: border-box;text-align: center;}#sk-container-id-6 label.sk-toggleable__label-arrow:before {content: \"▸\";float: left;margin-right: 0.25em;color: #696969;}#sk-container-id-6 label.sk-toggleable__label-arrow:hover:before {color: black;}#sk-container-id-6 div.sk-estimator:hover label.sk-toggleable__label-arrow:before {color: black;}#sk-container-id-6 div.sk-toggleable__content {max-height: 0;max-width: 0;overflow: hidden;text-align: left;background-color: #f0f8ff;}#sk-container-id-6 div.sk-toggleable__content pre {margin: 0.2em;color: black;border-radius: 0.25em;background-color: #f0f8ff;}#sk-container-id-6 input.sk-toggleable__control:checked~div.sk-toggleable__content {max-height: 200px;max-width: 100%;overflow: auto;}#sk-container-id-6 input.sk-toggleable__control:checked~label.sk-toggleable__label-arrow:before {content: \"▾\";}#sk-container-id-6 div.sk-estimator input.sk-toggleable__control:checked~label.sk-toggleable__label {background-color: #d4ebff;}#sk-container-id-6 div.sk-label input.sk-toggleable__control:checked~label.sk-toggleable__label {background-color: #d4ebff;}#sk-container-id-6 input.sk-hidden--visually {border: 0;clip: rect(1px 1px 1px 1px);clip: rect(1px, 1px, 1px, 1px);height: 1px;margin: -1px;overflow: hidden;padding: 0;position: absolute;width: 1px;}#sk-container-id-6 div.sk-estimator {font-family: monospace;background-color: #f0f8ff;border: 1px dotted black;border-radius: 0.25em;box-sizing: border-box;margin-bottom: 0.5em;}#sk-container-id-6 div.sk-estimator:hover {background-color: #d4ebff;}#sk-container-id-6 div.sk-parallel-item::after {content: \"\";width: 100%;border-bottom: 1px solid gray;flex-grow: 1;}#sk-container-id-6 div.sk-label:hover label.sk-toggleable__label {background-color: #d4ebff;}#sk-container-id-6 div.sk-serial::before {content: \"\";position: absolute;border-left: 1px solid gray;box-sizing: border-box;top: 0;bottom: 0;left: 50%;z-index: 0;}#sk-container-id-6 div.sk-serial {display: flex;flex-direction: column;align-items: center;background-color: white;padding-right: 0.2em;padding-left: 0.2em;position: relative;}#sk-container-id-6 div.sk-item {position: relative;z-index: 1;}#sk-container-id-6 div.sk-parallel {display: flex;align-items: stretch;justify-content: center;background-color: white;position: relative;}#sk-container-id-6 div.sk-item::before, #sk-container-id-6 div.sk-parallel-item::before {content: \"\";position: absolute;border-left: 1px solid gray;box-sizing: border-box;top: 0;bottom: 0;left: 50%;z-index: -1;}#sk-container-id-6 div.sk-parallel-item {display: flex;flex-direction: column;z-index: 1;position: relative;background-color: white;}#sk-container-id-6 div.sk-parallel-item:first-child::after {align-self: flex-end;width: 50%;}#sk-container-id-6 div.sk-parallel-item:last-child::after {align-self: flex-start;width: 50%;}#sk-container-id-6 div.sk-parallel-item:only-child::after {width: 0;}#sk-container-id-6 div.sk-dashed-wrapped {border: 1px dashed gray;margin: 0 0.4em 0.5em 0.4em;box-sizing: border-box;padding-bottom: 0.4em;background-color: white;}#sk-container-id-6 div.sk-label label {font-family: monospace;font-weight: bold;display: inline-block;line-height: 1.2em;}#sk-container-id-6 div.sk-label-container {text-align: center;}#sk-container-id-6 div.sk-container {/* jupyter's `normalize.less` sets `[hidden] { display: none; }` but bootstrap.min.css set `[hidden] { display: none !important; }` so we also need the `!important` here to be able to override the default hidden behavior on the sphinx rendered scikit-learn.org. See: https://github.com/scikit-learn/scikit-learn/issues/21755 */display: inline-block !important;position: relative;}#sk-container-id-6 div.sk-text-repr-fallback {display: none;}</style><div id=\"sk-container-id-6\" class=\"sk-top-container\"><div class=\"sk-text-repr-fallback\"><pre>XGBClassifier(base_score=None, booster=None, callbacks=None,\n",
       "              colsample_bylevel=None, colsample_bynode=None,\n",
       "              colsample_bytree=0.7, device=None, early_stopping_rounds=None,\n",
       "              enable_categorical=False, eval_metric=None, feature_types=None,\n",
       "              gamma=0, grow_policy=None, importance_type=None,\n",
       "              interaction_constraints=None, learning_rate=0.1, max_bin=None,\n",
       "              max_cat_threshold=None, max_cat_to_onehot=None,\n",
       "              max_delta_step=None, max_depth=3, max_leaves=None,\n",
       "              min_child_weight=None, missing=nan, monotone_constraints=None,\n",
       "              multi_strategy=None, n_estimators=100, n_jobs=None,\n",
       "              num_parallel_tree=None, objective=&#x27;multi:softprob&#x27;, ...)</pre><b>In a Jupyter environment, please rerun this cell to show the HTML representation or trust the notebook. <br />On GitHub, the HTML representation is unable to render, please try loading this page with nbviewer.org.</b></div><div class=\"sk-container\" hidden><div class=\"sk-item\"><div class=\"sk-estimator sk-toggleable\"><input class=\"sk-toggleable__control sk-hidden--visually\" id=\"sk-estimator-id-8\" type=\"checkbox\" checked><label for=\"sk-estimator-id-8\" class=\"sk-toggleable__label sk-toggleable__label-arrow\">XGBClassifier</label><div class=\"sk-toggleable__content\"><pre>XGBClassifier(base_score=None, booster=None, callbacks=None,\n",
       "              colsample_bylevel=None, colsample_bynode=None,\n",
       "              colsample_bytree=0.7, device=None, early_stopping_rounds=None,\n",
       "              enable_categorical=False, eval_metric=None, feature_types=None,\n",
       "              gamma=0, grow_policy=None, importance_type=None,\n",
       "              interaction_constraints=None, learning_rate=0.1, max_bin=None,\n",
       "              max_cat_threshold=None, max_cat_to_onehot=None,\n",
       "              max_delta_step=None, max_depth=3, max_leaves=None,\n",
       "              min_child_weight=None, missing=nan, monotone_constraints=None,\n",
       "              multi_strategy=None, n_estimators=100, n_jobs=None,\n",
       "              num_parallel_tree=None, objective=&#x27;multi:softprob&#x27;, ...)</pre></div></div></div></div></div>"
      ],
      "text/plain": [
       "XGBClassifier(base_score=None, booster=None, callbacks=None,\n",
       "              colsample_bylevel=None, colsample_bynode=None,\n",
       "              colsample_bytree=0.7, device=None, early_stopping_rounds=None,\n",
       "              enable_categorical=False, eval_metric=None, feature_types=None,\n",
       "              gamma=0, grow_policy=None, importance_type=None,\n",
       "              interaction_constraints=None, learning_rate=0.1, max_bin=None,\n",
       "              max_cat_threshold=None, max_cat_to_onehot=None,\n",
       "              max_delta_step=None, max_depth=3, max_leaves=None,\n",
       "              min_child_weight=None, missing=nan, monotone_constraints=None,\n",
       "              multi_strategy=None, n_estimators=100, n_jobs=None,\n",
       "              num_parallel_tree=None, objective='multi:softprob', ...)"
      ]
     },
     "execution_count": 52,
     "metadata": {},
     "output_type": "execute_result"
    }
   ],
   "source": [
    "# Training the XGBoost classifier on the training data using multi-class log loss as the evaluation metric.\n",
    "best_xgb_classifier.fit(X_train, y_train_encoded, eval_metric='mlogloss')"
   ]
  },
  {
   "cell_type": "code",
   "execution_count": 53,
   "id": "523b5ca6",
   "metadata": {},
   "outputs": [],
   "source": [
    "# Predicting target values for training data using the best XGBoost parameters.\n",
    "y_pred_train_best_xgb = best_xgb_classifier.predict(X_train)\n",
    "\n",
    "# Predicting target values for test data using the best XGBoost parameters.\n",
    "y_pred_test_best_xgb = best_xgb_classifier.predict(X_test)"
   ]
  },
  {
   "cell_type": "code",
   "execution_count": 54,
   "id": "be6ffb0d",
   "metadata": {},
   "outputs": [],
   "source": [
    "# Calculate training and test accuracies\n",
    "accuracy_train_best_xgb = accuracy_score(y_train_encoded, y_pred_train_best_xgb)\n",
    "accuracy_test_best_xgb = accuracy_score(y_test_encoded, y_pred_test_best_xgb)"
   ]
  },
  {
   "cell_type": "code",
   "execution_count": 55,
   "id": "980ec7ec",
   "metadata": {
    "scrolled": true
   },
   "outputs": [
    {
     "name": "stdout",
     "output_type": "stream",
     "text": [
      "Best XGBoost Training Accuracy: 1.0\n",
      "Best XGBoost Test Accuracy: 0.9904306220095693\n"
     ]
    }
   ],
   "source": [
    "print(f\"Best XGBoost Training Accuracy: {accuracy_train_best_xgb}\")\n",
    "print(f\"Best XGBoost Test Accuracy: {accuracy_test_best_xgb}\")"
   ]
  },
  {
   "cell_type": "markdown",
   "id": "a8437de6",
   "metadata": {},
   "source": [
    "# 11. Pickle file for XGBoost to deployment"
   ]
  },
  {
   "cell_type": "code",
   "execution_count": 56,
   "id": "8bc19ec6",
   "metadata": {},
   "outputs": [],
   "source": [
    "import pickle\n",
    "\n",
    "with open('../data/best_xgb_model.pkl', 'wb') as file:\n",
    "    pickle.dump(best_xgb_classifier, file)"
   ]
  },
  {
   "cell_type": "markdown",
   "id": "03010ac7",
   "metadata": {},
   "source": [
    "## Model Summary\n",
    "\n",
    "###### 1. XGBoost had a very minisucle increase in test score after tuning.\n",
    "###### 2. The choice of model for deployment will be dependent on discrepancy scores between the train's and test's accuracy score.\n",
    "###### 3. Upon looking at both results, it is safe to say that we'll be using tuned XGBoost for deployment."
   ]
  },
  {
   "cell_type": "markdown",
   "id": "3d9c63f8",
   "metadata": {},
   "source": [
    "# 12. Conclusion\n",
    "\n",
    "### Through this comprehensive analysis, we set out to develop a model that provides a more holistic evaluation of the healthiness of drinks, moving beyond just trans fat and sugar levels.\n",
    "\n",
    "### Our approach was meticulous, encompassing:\n",
    "\n",
    "### 1. Data Preprocessing: We successfully handled non-numeric columns using One-Hot Encoding and tackled the imbalanced dataset using the Synthetic Minority Oversampling Technique (SMOTE). We also standardized our data, ensuring uniformity across features.\n",
    "\n",
    "### 2. Dimensionality Reduction: PCA was employed to retain the most critical data variances and also facilitated a 2D visualization of our data.\n",
    "\n",
    "### 3. Clustering: Multiple techniques like K-means, Gaussian Mixture Model, and Spectral Clustering were explored. Although visible clusters weren't distinctly observed, this exploration added value by emphasizing the nuanced differences in drink attributes.\n",
    "\n",
    "### 4.Modeling: Both Random Forest and XGBoost classifiers were used. We leveraged GridSearchCV to fine-tune our models, ensuring optimal hyperparameters were selected. Although Random Forest gave promising results, XGBoost slightly edged out in performance after tuning.\n",
    "\n",
    "### 5. Deployment Preparations: The tuned XGBoost model was serialized into a pickle file, readying it for deployment.\n",
    "\n",
    "### In conclusion, while our initial nutrigrade labels were limited in scope, our refined model, using XGBoost, promises a more comprehensive and nuanced evaluation of drinks' healthiness. This model is not only aligned with current standards set by the Health Promotion Board but is also built with the foresight of evolving standards. Our work here underscores the importance of continuous refinement and leveraging advanced machine learning techniques to make more informed health decisions."
   ]
  }
 ],
 "metadata": {
  "kernelspec": {
   "display_name": "Python 3 (ipykernel)",
   "language": "python",
   "name": "python3"
  },
  "language_info": {
   "codemirror_mode": {
    "name": "ipython",
    "version": 3
   },
   "file_extension": ".py",
   "mimetype": "text/x-python",
   "name": "python",
   "nbconvert_exporter": "python",
   "pygments_lexer": "ipython3",
   "version": "3.11.3"
  }
 },
 "nbformat": 4,
 "nbformat_minor": 5
}
